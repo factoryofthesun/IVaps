{
 "cells": [
  {
   "cell_type": "markdown",
   "metadata": {},
   "source": [
    "# Sklearn Example: LogisticRegression and Iris"
   ]
  },
  {
   "cell_type": "markdown",
   "metadata": {},
   "source": [
    "In this example we will train as LogisticRegression model on the iris dataset, convert it to ONNX format, simulate historical treatment data, then estimate the treatment effects using our IV estimation method."
   ]
  },
  {
   "cell_type": "markdown",
   "metadata": {},
   "source": [
    "### 1. Train and Convert"
   ]
  },
  {
   "cell_type": "code",
   "execution_count": 44,
   "metadata": {},
   "outputs": [],
   "source": [
    "import sys\n",
    "import os\n",
    "import pandas as pd\n",
    "import numpy as np\n",
    "from pathlib import Path\n",
    "from sklearn.datasets import load_iris"
   ]
  },
  {
   "cell_type": "code",
   "execution_count": 45,
   "metadata": {},
   "outputs": [],
   "source": [
    "iris = load_iris()\n",
    "X, y = iris.data, iris.target"
   ]
  },
  {
   "cell_type": "markdown",
   "metadata": {},
   "source": [
    "In this example, X consists of 4 continuous variables"
   ]
  },
  {
   "cell_type": "code",
   "execution_count": 46,
   "metadata": {},
   "outputs": [
    {
     "name": "stdout",
     "output_type": "stream",
     "text": [
      "Dtype: float64 \n",
      "Shape: (150, 4)\n"
     ]
    }
   ],
   "source": [
    "print(\"Dtype:\", X.dtype, \"\\nShape:\", X.shape)"
   ]
  },
  {
   "cell_type": "markdown",
   "metadata": {},
   "source": [
    "Our estimation method relies on binary treatment assignment, so here let's assume that iris classifications of 1 or 2 indicate treatment recommendation."
   ]
  },
  {
   "cell_type": "code",
   "execution_count": 49,
   "metadata": {},
   "outputs": [
    {
     "data": {
      "text/plain": [
       "0.6666666666666666"
      ]
     },
     "execution_count": 49,
     "metadata": {},
     "output_type": "execute_result"
    }
   ],
   "source": [
    "y[y>0] = 1\n",
    "sum(y == 1)/len(y)"
   ]
  },
  {
   "cell_type": "code",
   "execution_count": 50,
   "metadata": {},
   "outputs": [],
   "source": [
    "from sklearn.model_selection import train_test_split\n",
    "from sklearn.linear_model import LogisticRegression \n",
    "\n",
    "X_train, X_test, y_train, y_test = train_test_split(X, y)"
   ]
  },
  {
   "cell_type": "code",
   "execution_count": 51,
   "metadata": {},
   "outputs": [
    {
     "data": {
      "text/plain": [
       "LogisticRegression()"
      ]
     },
     "execution_count": 51,
     "metadata": {},
     "output_type": "execute_result"
    }
   ],
   "source": [
    "clr = LogisticRegression()\n",
    "clr.fit(X_train, y_train)"
   ]
  },
  {
   "cell_type": "code",
   "execution_count": 52,
   "metadata": {},
   "outputs": [
    {
     "data": {
      "text/plain": [
       "array([[6.43946299e-05, 9.99935605e-01],\n",
       "       [6.17542077e-04, 9.99382458e-01],\n",
       "       [9.77038234e-01, 2.29617658e-02],\n",
       "       [7.83578672e-04, 9.99216421e-01],\n",
       "       [3.01864719e-02, 9.69813528e-01]])"
      ]
     },
     "execution_count": 52,
     "metadata": {},
     "output_type": "execute_result"
    }
   ],
   "source": [
    "clr.predict_proba(X_test)[:5]"
   ]
  },
  {
   "cell_type": "code",
   "execution_count": 53,
   "metadata": {},
   "outputs": [],
   "source": [
    "import pickle \n",
    "\n",
    "# Save model\n",
    "with open(f\"models/iris_logreg.pickle\", \"wb\") as f:\n",
    "    pickle.dump(clr, f)"
   ]
  },
  {
   "cell_type": "markdown",
   "metadata": {},
   "source": [
    "Now let's load back in the model and convert to ONNX. This step is necessary because our APS estimation procedure only takes ONNX models for inference."
   ]
  },
  {
   "cell_type": "code",
   "execution_count": 54,
   "metadata": {},
   "outputs": [
    {
     "data": {
      "text/plain": [
       "{'C': 1.0,\n",
       " 'class_weight': None,\n",
       " 'dual': False,\n",
       " 'fit_intercept': True,\n",
       " 'intercept_scaling': 1,\n",
       " 'l1_ratio': None,\n",
       " 'max_iter': 100,\n",
       " 'multi_class': 'auto',\n",
       " 'n_jobs': None,\n",
       " 'penalty': 'l2',\n",
       " 'random_state': None,\n",
       " 'solver': 'lbfgs',\n",
       " 'tol': 0.0001,\n",
       " 'verbose': 0,\n",
       " 'warm_start': False}"
      ]
     },
     "execution_count": 54,
     "metadata": {},
     "output_type": "execute_result"
    }
   ],
   "source": [
    "model = pickle.load(open(f\"models/iris_logreg.pickle\", 'rb'))\n",
    "model.get_params()"
   ]
  },
  {
   "cell_type": "markdown",
   "metadata": {},
   "source": [
    "The IVaps package provides an ONNX conversion wrapper function that requires a dummy input and framework string to process datatypes and run the correct conversion function."
   ]
  },
  {
   "cell_type": "code",
   "execution_count": 57,
   "metadata": {},
   "outputs": [
    {
     "data": {
      "text/plain": [
       "ir_version: 4\n",
       "producer_name: \"skl2onnx\"\n",
       "producer_version: \"1.7.0\"\n",
       "domain: \"ai.onnx\"\n",
       "model_version: 0\n",
       "doc_string: \"\"\n",
       "graph {\n",
       "  node {\n",
       "    input: \"c_inputs\"\n",
       "    output: \"label\"\n",
       "    output: \"probability_tensor\"\n",
       "    name: \"LinearClassifier\"\n",
       "    op_type: \"LinearClassifier\"\n",
       "    attribute {\n",
       "      name: \"classlabels_ints\"\n",
       "      ints: 0\n",
       "      ints: 1\n",
       "      type: INTS\n",
       "    }\n",
       "    attribute {\n",
       "      name: \"coefficients\"\n",
       "      floats: -0.40207019448280334\n",
       "      floats: 0.8983038663864136\n",
       "      floats: -2.212754726409912\n",
       "      floats: -0.9189403057098389\n",
       "      floats: 0.40207019448280334\n",
       "      floats: -0.8983038663864136\n",
       "      floats: 2.212754726409912\n",
       "      floats: 0.9189403057098389\n",
       "      type: FLOATS\n",
       "    }\n",
       "    attribute {\n",
       "      name: \"intercepts\"\n",
       "      floats: 6.111894130706787\n",
       "      floats: -6.111894130706787\n",
       "      type: FLOATS\n",
       "    }\n",
       "    attribute {\n",
       "      name: \"multi_class\"\n",
       "      i: 1\n",
       "      type: INT\n",
       "    }\n",
       "    attribute {\n",
       "      name: \"post_transform\"\n",
       "      s: \"LOGISTIC\"\n",
       "      type: STRING\n",
       "    }\n",
       "    domain: \"ai.onnx.ml\"\n",
       "  }\n",
       "  node {\n",
       "    input: \"probability_tensor\"\n",
       "    output: \"probabilities\"\n",
       "    name: \"Normalizer\"\n",
       "    op_type: \"Normalizer\"\n",
       "    attribute {\n",
       "      name: \"norm\"\n",
       "      s: \"L1\"\n",
       "      type: STRING\n",
       "    }\n",
       "    domain: \"ai.onnx.ml\"\n",
       "  }\n",
       "  node {\n",
       "    input: \"label\"\n",
       "    output: \"output_label\"\n",
       "    name: \"Cast\"\n",
       "    op_type: \"Cast\"\n",
       "    attribute {\n",
       "      name: \"to\"\n",
       "      i: 7\n",
       "      type: INT\n",
       "    }\n",
       "    domain: \"\"\n",
       "  }\n",
       "  node {\n",
       "    input: \"probabilities\"\n",
       "    output: \"output_probability\"\n",
       "    name: \"ZipMap\"\n",
       "    op_type: \"ZipMap\"\n",
       "    attribute {\n",
       "      name: \"classlabels_int64s\"\n",
       "      ints: 0\n",
       "      ints: 1\n",
       "      type: INTS\n",
       "    }\n",
       "    domain: \"ai.onnx.ml\"\n",
       "  }\n",
       "  name: \"60b9e49389a84dd887dfea7990cfcd72\"\n",
       "  input {\n",
       "    name: \"c_inputs\"\n",
       "    type {\n",
       "      tensor_type {\n",
       "        elem_type: 11\n",
       "        shape {\n",
       "          dim {\n",
       "          }\n",
       "          dim {\n",
       "            dim_value: 4\n",
       "          }\n",
       "        }\n",
       "      }\n",
       "    }\n",
       "  }\n",
       "  output {\n",
       "    name: \"output_label\"\n",
       "    type {\n",
       "      tensor_type {\n",
       "        elem_type: 7\n",
       "        shape {\n",
       "          dim {\n",
       "          }\n",
       "        }\n",
       "      }\n",
       "    }\n",
       "  }\n",
       "  output {\n",
       "    name: \"output_probability\"\n",
       "    type {\n",
       "      sequence_type {\n",
       "        elem_type {\n",
       "          map_type {\n",
       "            key_type: 7\n",
       "            value_type {\n",
       "              tensor_type {\n",
       "                elem_type: 1\n",
       "              }\n",
       "            }\n",
       "          }\n",
       "        }\n",
       "      }\n",
       "    }\n",
       "  }\n",
       "}\n",
       "opset_import {\n",
       "  domain: \"\"\n",
       "  version: 9\n",
       "}\n",
       "opset_import {\n",
       "  domain: \"ai.onnx.ml\"\n",
       "  version: 1\n",
       "}"
      ]
     },
     "execution_count": 57,
     "metadata": {},
     "output_type": "execute_result"
    }
   ],
   "source": [
    "from IVaps import convert_to_onnx\n",
    "\n",
    "X_dummy = X[0,:]\n",
    "filename = \"models/iris_logreg.onnx\"\n",
    "\n",
    "convert_to_onnx(model = model, dummy_input1 = X_dummy, output_path = filename, framework = \"sklearn\")"
   ]
  },
  {
   "cell_type": "markdown",
   "metadata": {},
   "source": [
    "The wrapper function will also pass on any keyword arguments to the downstream conversion function"
   ]
  },
  {
   "cell_type": "code",
   "execution_count": 58,
   "metadata": {},
   "outputs": [
    {
     "data": {
      "text/plain": [
       "ir_version: 4\n",
       "producer_name: \"skl2onnx\"\n",
       "producer_version: \"1.7.0\"\n",
       "domain: \"ai.onnx\"\n",
       "model_version: 0\n",
       "doc_string: \"Sklearn LogisticRegression model trained on iris dataset\"\n",
       "graph {\n",
       "  node {\n",
       "    input: \"c_inputs\"\n",
       "    output: \"label\"\n",
       "    output: \"probability_tensor\"\n",
       "    name: \"LinearClassifier\"\n",
       "    op_type: \"LinearClassifier\"\n",
       "    attribute {\n",
       "      name: \"classlabels_ints\"\n",
       "      ints: 0\n",
       "      ints: 1\n",
       "      type: INTS\n",
       "    }\n",
       "    attribute {\n",
       "      name: \"coefficients\"\n",
       "      floats: -0.40207019448280334\n",
       "      floats: 0.8983038663864136\n",
       "      floats: -2.212754726409912\n",
       "      floats: -0.9189403057098389\n",
       "      floats: 0.40207019448280334\n",
       "      floats: -0.8983038663864136\n",
       "      floats: 2.212754726409912\n",
       "      floats: 0.9189403057098389\n",
       "      type: FLOATS\n",
       "    }\n",
       "    attribute {\n",
       "      name: \"intercepts\"\n",
       "      floats: 6.111894130706787\n",
       "      floats: -6.111894130706787\n",
       "      type: FLOATS\n",
       "    }\n",
       "    attribute {\n",
       "      name: \"multi_class\"\n",
       "      i: 1\n",
       "      type: INT\n",
       "    }\n",
       "    attribute {\n",
       "      name: \"post_transform\"\n",
       "      s: \"LOGISTIC\"\n",
       "      type: STRING\n",
       "    }\n",
       "    domain: \"ai.onnx.ml\"\n",
       "  }\n",
       "  node {\n",
       "    input: \"probability_tensor\"\n",
       "    output: \"probabilities\"\n",
       "    name: \"Normalizer\"\n",
       "    op_type: \"Normalizer\"\n",
       "    attribute {\n",
       "      name: \"norm\"\n",
       "      s: \"L1\"\n",
       "      type: STRING\n",
       "    }\n",
       "    domain: \"ai.onnx.ml\"\n",
       "  }\n",
       "  node {\n",
       "    input: \"label\"\n",
       "    output: \"output_label\"\n",
       "    name: \"Cast\"\n",
       "    op_type: \"Cast\"\n",
       "    attribute {\n",
       "      name: \"to\"\n",
       "      i: 7\n",
       "      type: INT\n",
       "    }\n",
       "    domain: \"\"\n",
       "  }\n",
       "  node {\n",
       "    input: \"probabilities\"\n",
       "    output: \"output_probability\"\n",
       "    name: \"ZipMap\"\n",
       "    op_type: \"ZipMap\"\n",
       "    attribute {\n",
       "      name: \"classlabels_int64s\"\n",
       "      ints: 0\n",
       "      ints: 1\n",
       "      type: INTS\n",
       "    }\n",
       "    domain: \"ai.onnx.ml\"\n",
       "  }\n",
       "  name: \"6a54b5730b074c3390f80f18625b3332\"\n",
       "  input {\n",
       "    name: \"c_inputs\"\n",
       "    type {\n",
       "      tensor_type {\n",
       "        elem_type: 11\n",
       "        shape {\n",
       "          dim {\n",
       "          }\n",
       "          dim {\n",
       "            dim_value: 4\n",
       "          }\n",
       "        }\n",
       "      }\n",
       "    }\n",
       "  }\n",
       "  output {\n",
       "    name: \"output_label\"\n",
       "    type {\n",
       "      tensor_type {\n",
       "        elem_type: 7\n",
       "        shape {\n",
       "          dim {\n",
       "          }\n",
       "        }\n",
       "      }\n",
       "    }\n",
       "  }\n",
       "  output {\n",
       "    name: \"output_probability\"\n",
       "    type {\n",
       "      sequence_type {\n",
       "        elem_type {\n",
       "          map_type {\n",
       "            key_type: 7\n",
       "            value_type {\n",
       "              tensor_type {\n",
       "                elem_type: 1\n",
       "              }\n",
       "            }\n",
       "          }\n",
       "        }\n",
       "      }\n",
       "    }\n",
       "  }\n",
       "}\n",
       "opset_import {\n",
       "  domain: \"\"\n",
       "  version: 9\n",
       "}\n",
       "opset_import {\n",
       "  domain: \"ai.onnx.ml\"\n",
       "  version: 1\n",
       "}"
      ]
     },
     "execution_count": 58,
     "metadata": {},
     "output_type": "execute_result"
    }
   ],
   "source": [
    "convert_to_onnx(model=model, dummy_input1=X_dummy, output_path=filename, framework=\"sklearn\", target_opset=12, \n",
    "                doc_string=\"Sklearn LogisticRegression model trained on iris dataset\")"
   ]
  },
  {
   "cell_type": "markdown",
   "metadata": {},
   "source": [
    "### 2. Simulate historical treatment data"
   ]
  },
  {
   "cell_type": "markdown",
   "metadata": {},
   "source": [
    "Let's simulate treatment and non-treatment outcomes for each observation i with the following structural equations:\n",
    "\\begin{align}\n",
    "Y_{0i} &= \\mathcal{N}(2,2)x_{1i} + \\mathcal{N}(3,1)x_{2i} + \\mathcal{N}(0,1) \\\\\n",
    "Y_{1i} &= Y_{0i} + \\mathcal{N}(5,0.2) + \\mathcal{N}(0,1)\n",
    "\\end{align}\n",
    "\n",
    "Where $x_{1}$ and $x_{2}$ refer to the first and second variables of input X. "
   ]
  },
  {
   "cell_type": "code",
   "execution_count": 75,
   "metadata": {},
   "outputs": [],
   "source": [
    "# Generate coefficients for observations\n",
    "b1 = np.random.normal(2,2,len(X))\n",
    "b2 = np.random.normal(3,1,len(X))\n",
    "e0 = np.random.normal(0,1,len(X))\n",
    "treatment_effect = np.random.normal(5,0.2, len(X))\n",
    "e1 = np.random.normal(0,1,len(X))"
   ]
  },
  {
   "cell_type": "code",
   "execution_count": 76,
   "metadata": {},
   "outputs": [],
   "source": [
    "Y0 = b1 * X[:,0] + b2 * X[:,1] + e0\n",
    "Y1 = Y0 + treatment_effect + e1"
   ]
  },
  {
   "cell_type": "markdown",
   "metadata": {},
   "source": [
    "Generate treatment recommendation probabilities using our trained model. Let's assume that the treatment is assigned when the model recommends assignment 75% of the time (no-defiers assumption)."
   ]
  },
  {
   "cell_type": "code",
   "execution_count": 77,
   "metadata": {},
   "outputs": [
    {
     "data": {
      "text/plain": [
       "array([0.01938358, 0.02778672, 0.017355  , 0.02808062, 0.01706032])"
      ]
     },
     "execution_count": 77,
     "metadata": {},
     "output_type": "execute_result"
    }
   ],
   "source": [
    "# Create treatment recommendation probabilities\n",
    "Z_probs = clr.predict_proba(X)[:,1]\n",
    "Z_probs[:5]"
   ]
  },
  {
   "cell_type": "code",
   "execution_count": 78,
   "metadata": {},
   "outputs": [
    {
     "data": {
      "text/plain": [
       "array([0, 0, 1, 0, 0])"
      ]
     },
     "execution_count": 78,
     "metadata": {},
     "output_type": "execute_result"
    }
   ],
   "source": [
    "# Draw treatment recommendations\n",
    "recommend_prob = np.random.uniform(size=len(X))\n",
    "Z = (recommend_prob <= Z_probs).astype(int)\n",
    "Z[:5]"
   ]
  },
  {
   "cell_type": "code",
   "execution_count": 79,
   "metadata": {},
   "outputs": [],
   "source": [
    "# Realized assignment follows recommended assignment 75% of the time\n",
    "treatment_prob = np.random.uniform(size=len(X))\n",
    "D = []\n",
    "for i in range(len(treatment_prob)):\n",
    "    if Z[i] == 1:\n",
    "        if treatment_prob[i] >= 0.75:\n",
    "            D.append(0)\n",
    "        else:\n",
    "            D.append(1)\n",
    "    else:\n",
    "        D.append(Z[i])"
   ]
  },
  {
   "cell_type": "code",
   "execution_count": 80,
   "metadata": {},
   "outputs": [
    {
     "data": {
      "text/plain": [
       "(150, 4)"
      ]
     },
     "execution_count": 80,
     "metadata": {},
     "output_type": "execute_result"
    }
   ],
   "source": [
    "sim_data = np.stack((Y0, Y1, Z, D), axis=1)\n",
    "sim_data.shape"
   ]
  },
  {
   "cell_type": "code",
   "execution_count": 81,
   "metadata": {},
   "outputs": [
    {
     "data": {
      "text/plain": [
       "(150, 8)"
      ]
     },
     "execution_count": 81,
     "metadata": {},
     "output_type": "execute_result"
    }
   ],
   "source": [
    "full_data = np.concatenate((sim_data, X), axis=1)\n",
    "full_data.shape"
   ]
  },
  {
   "cell_type": "code",
   "execution_count": 82,
   "metadata": {},
   "outputs": [],
   "source": [
    "# Save to csv\n",
    "cols = ['Y0', 'Y1', 'Z', 'D', 'X1', 'X2', 'X3', 'X4']\n",
    "df = pd.DataFrame(data = full_data, columns=cols)\n",
    "df['Y'] = df['Y1']\n",
    "df.loc[df['D']==0, 'Y'] = df.loc[df['D']==0, 'Y0']\n",
    "df.to_csv(\"data/iris_data.csv\", index=False)"
   ]
  },
  {
   "cell_type": "code",
   "execution_count": 83,
   "metadata": {},
   "outputs": [
    {
     "name": "stdout",
     "output_type": "stream",
     "text": [
      "Constant: 20.596786577283936\n",
      "ATE: 4.993407096330326\n",
      "ATET: 5.033753500963719\n",
      "LATE: 5.004023609441949\n"
     ]
    }
   ],
   "source": [
    "# Treatment effects \n",
    "constant = df.Y0.mean()\n",
    "ate = (df.Y1 - df.Y0).mean()\n",
    "atet = (df.loc[df['D'] == 1, 'Y1'] - df.loc[df['D'] == 1, 'Y0']).mean()\n",
    "late = (df.loc[(df['D'] == df['Z']), 'Y1'] - df.loc[(df['D'] == df['Z']), 'Y0']).mean()\n",
    "print(f\"Constant: {constant}\")\n",
    "print(f\"ATE: {ate}\")\n",
    "print(f\"ATET: {atet}\")\n",
    "print(f\"LATE: {late}\")"
   ]
  },
  {
   "cell_type": "code",
   "execution_count": 84,
   "metadata": {},
   "outputs": [
    {
     "name": "stdout",
     "output_type": "stream",
     "text": [
      "True treatment effect: 5.010042347601557\n"
     ]
    }
   ],
   "source": [
    "print(f\"True treatment effect: {np.mean(treatment_effect)}\")"
   ]
  },
  {
   "cell_type": "markdown",
   "metadata": {},
   "source": [
    "### 3. APS Estimation"
   ]
  },
  {
   "cell_type": "markdown",
   "metadata": {},
   "source": [
    "We can pass the simulated historical data and path to the ONNX model directly into our APS estimation function."
   ]
  },
  {
   "cell_type": "code",
   "execution_count": 1,
   "metadata": {},
   "outputs": [
    {
     "ename": "ModuleNotFoundError",
     "evalue": "No module named 'IVaps.qps'",
     "output_type": "error",
     "traceback": [
      "\u001b[0;31m---------------------------------------------------------------------------\u001b[0m",
      "\u001b[0;31mModuleNotFoundError\u001b[0m                       Traceback (most recent call last)",
      "\u001b[0;32m<ipython-input-1-615fa2cf6c8d>\u001b[0m in \u001b[0;36m<module>\u001b[0;34m\u001b[0m\n\u001b[0;32m----> 1\u001b[0;31m \u001b[0;32mfrom\u001b[0m \u001b[0mIVaps\u001b[0m \u001b[0;32mimport\u001b[0m \u001b[0mestimate_aps_onnx\u001b[0m\u001b[0;34m\u001b[0m\u001b[0;34m\u001b[0m\u001b[0m\n\u001b[0m",
      "\u001b[0;32m~/Documents/Tobin/mlisne/IVaps/__init__.py\u001b[0m in \u001b[0;36m<module>\u001b[0;34m\u001b[0m\n\u001b[1;32m      5\u001b[0m            \"estimator\",]\n\u001b[1;32m      6\u001b[0m \u001b[0;32mfrom\u001b[0m \u001b[0;34m.\u001b[0m\u001b[0mhelpers\u001b[0m \u001b[0;32mimport\u001b[0m \u001b[0;34m*\u001b[0m\u001b[0;34m\u001b[0m\u001b[0;34m\u001b[0m\u001b[0m\n\u001b[0;32m----> 7\u001b[0;31m \u001b[0;32mfrom\u001b[0m \u001b[0;34m.\u001b[0m\u001b[0mqps\u001b[0m \u001b[0;32mimport\u001b[0m \u001b[0;34m*\u001b[0m\u001b[0;34m\u001b[0m\u001b[0;34m\u001b[0m\u001b[0m\n\u001b[0m\u001b[1;32m      8\u001b[0m \u001b[0;32mfrom\u001b[0m \u001b[0;34m.\u001b[0m\u001b[0mestimator\u001b[0m \u001b[0;32mimport\u001b[0m \u001b[0;34m*\u001b[0m\u001b[0;34m\u001b[0m\u001b[0;34m\u001b[0m\u001b[0m\n",
      "\u001b[0;31mModuleNotFoundError\u001b[0m: No module named 'IVaps.qps'"
     ]
    }
   ],
   "source": [
    "from IVaps import estimate_aps_onnx"
   ]
  },
  {
   "cell_type": "markdown",
   "metadata": {},
   "source": [
    "The data can be passed in a variety of ways. You can pass the entire dataset with optional variable indices delineating the continuous and discrete variables, the input variables individually, or some combination of the two. If incomplete information is passed, then the remaining data will be inferred **greedily**. That is, the remaining data will be assumed to be of whatever type that is not explicitly delineated. If no indices or explicit variables are given, then all of the data will be assumed to be continuous.\n",
    "\n",
    "For this example, our input data is all continuous."
   ]
  },
  {
   "cell_type": "code",
   "execution_count": 86,
   "metadata": {},
   "outputs": [
    {
     "data": {
      "text/html": [
       "<div>\n",
       "<style scoped>\n",
       "    .dataframe tbody tr th:only-of-type {\n",
       "        vertical-align: middle;\n",
       "    }\n",
       "\n",
       "    .dataframe tbody tr th {\n",
       "        vertical-align: top;\n",
       "    }\n",
       "\n",
       "    .dataframe thead th {\n",
       "        text-align: right;\n",
       "    }\n",
       "</style>\n",
       "<table border=\"1\" class=\"dataframe\">\n",
       "  <thead>\n",
       "    <tr style=\"text-align: right;\">\n",
       "      <th></th>\n",
       "      <th>Y0</th>\n",
       "      <th>Y1</th>\n",
       "      <th>Z</th>\n",
       "      <th>D</th>\n",
       "      <th>X1</th>\n",
       "      <th>X2</th>\n",
       "      <th>X3</th>\n",
       "      <th>X4</th>\n",
       "      <th>Y</th>\n",
       "    </tr>\n",
       "  </thead>\n",
       "  <tbody>\n",
       "    <tr>\n",
       "      <th>0</th>\n",
       "      <td>24.416542</td>\n",
       "      <td>27.914383</td>\n",
       "      <td>0.0</td>\n",
       "      <td>0.0</td>\n",
       "      <td>5.1</td>\n",
       "      <td>3.5</td>\n",
       "      <td>1.4</td>\n",
       "      <td>0.2</td>\n",
       "      <td>24.416542</td>\n",
       "    </tr>\n",
       "    <tr>\n",
       "      <th>1</th>\n",
       "      <td>28.054542</td>\n",
       "      <td>34.666395</td>\n",
       "      <td>0.0</td>\n",
       "      <td>0.0</td>\n",
       "      <td>4.9</td>\n",
       "      <td>3.0</td>\n",
       "      <td>1.4</td>\n",
       "      <td>0.2</td>\n",
       "      <td>28.054542</td>\n",
       "    </tr>\n",
       "    <tr>\n",
       "      <th>2</th>\n",
       "      <td>6.208930</td>\n",
       "      <td>9.070442</td>\n",
       "      <td>1.0</td>\n",
       "      <td>1.0</td>\n",
       "      <td>4.7</td>\n",
       "      <td>3.2</td>\n",
       "      <td>1.3</td>\n",
       "      <td>0.2</td>\n",
       "      <td>9.070442</td>\n",
       "    </tr>\n",
       "    <tr>\n",
       "      <th>3</th>\n",
       "      <td>32.709551</td>\n",
       "      <td>37.574877</td>\n",
       "      <td>0.0</td>\n",
       "      <td>0.0</td>\n",
       "      <td>4.6</td>\n",
       "      <td>3.1</td>\n",
       "      <td>1.5</td>\n",
       "      <td>0.2</td>\n",
       "      <td>32.709551</td>\n",
       "    </tr>\n",
       "    <tr>\n",
       "      <th>4</th>\n",
       "      <td>42.155093</td>\n",
       "      <td>48.062303</td>\n",
       "      <td>0.0</td>\n",
       "      <td>0.0</td>\n",
       "      <td>5.0</td>\n",
       "      <td>3.6</td>\n",
       "      <td>1.4</td>\n",
       "      <td>0.2</td>\n",
       "      <td>42.155093</td>\n",
       "    </tr>\n",
       "  </tbody>\n",
       "</table>\n",
       "</div>"
      ],
      "text/plain": [
       "          Y0         Y1    Z    D   X1   X2   X3   X4          Y\n",
       "0  24.416542  27.914383  0.0  0.0  5.1  3.5  1.4  0.2  24.416542\n",
       "1  28.054542  34.666395  0.0  0.0  4.9  3.0  1.4  0.2  28.054542\n",
       "2   6.208930   9.070442  1.0  1.0  4.7  3.2  1.3  0.2   9.070442\n",
       "3  32.709551  37.574877  0.0  0.0  4.6  3.1  1.5  0.2  32.709551\n",
       "4  42.155093  48.062303  0.0  0.0  5.0  3.6  1.4  0.2  42.155093"
      ]
     },
     "execution_count": 86,
     "metadata": {},
     "output_type": "execute_result"
    }
   ],
   "source": [
    "df.head()"
   ]
  },
  {
   "cell_type": "markdown",
   "metadata": {},
   "source": [
    "In the below cell, we set a random seed and demonstrate different ways of passing data."
   ]
  },
  {
   "cell_type": "code",
   "execution_count": 87,
   "metadata": {},
   "outputs": [
    {
     "name": "stdout",
     "output_type": "stream",
     "text": [
      "`data` given but no indices passed. We will assume that all the variables in `data` are continuous.\n"
     ]
    }
   ],
   "source": [
    "seed = np.random.choice(range(100))\n",
    "\n",
    "# Pass just the input columns -- all variables are assumed to be continuous\n",
    "aps0 = estimate_aps_onnx(data=df[['X1', 'X2', 'X3', 'X4']], S=100, delta=0.8, onnx=filename, seed = seed)\n",
    "\n",
    "# Pass the full dataset along with indices \n",
    "aps1 = estimate_aps_onnx(data=df[['X1', 'X2', 'X3', 'X4']], C = range(4), S=100, delta=0.8, onnx=filename, seed = seed)\n",
    "\n",
    "# Pass the continuous columns into the X_c variable\n",
    "aps2 = estimate_aps_onnx(X_c=df[['X1', 'X2', 'X3', 'X4']], S=100, delta=0.8, onnx=filename, seed = seed)\n",
    "\n",
    "assert np.array_equal(aps0, aps1)\n",
    "assert np.array_equal(aps1, aps2)"
   ]
  },
  {
   "cell_type": "markdown",
   "metadata": {},
   "source": [
    "**Important:** to allow for cross-framework compatibility, our aps estimation function only works with ONNX models that take single inputs or separate continuous/discrete inputs with specified node names, and outputs with specified node names. The convert_to_onnx function will output with those settings automatically, but please keep this in mind if you plan on using an externally generated ONNX model."
   ]
  },
  {
   "cell_type": "markdown",
   "metadata": {},
   "source": [
    "The converted ONNX model sets expected input dtypes according to the dummy input, but you can also pass the continuous/discrete datatypes explicitly as a tuple to coerce the input data to a specific type."
   ]
  },
  {
   "cell_type": "code",
   "execution_count": 89,
   "metadata": {},
   "outputs": [
    {
     "data": {
      "text/plain": [
       "X1    float64\n",
       "X2    float64\n",
       "X3    float64\n",
       "X4    float64\n",
       "dtype: object"
      ]
     },
     "execution_count": 89,
     "metadata": {},
     "output_type": "execute_result"
    }
   ],
   "source": [
    "df[['X1', 'X2', 'X3', 'X4']].dtypes"
   ]
  },
  {
   "cell_type": "code",
   "execution_count": 99,
   "metadata": {},
   "outputs": [
    {
     "name": "stdout",
     "output_type": "stream",
     "text": [
      "`data` given but no indices passed. We will assume that all the variables in `data` are continuous.\n"
     ]
    },
    {
     "data": {
      "text/plain": [
       "array([0.01907534, 0.02838389, 0.0177419 , 0.02782021, 0.01714313])"
      ]
     },
     "execution_count": 99,
     "metadata": {},
     "output_type": "execute_result"
    }
   ],
   "source": [
    "aps = estimate_aps_onnx(data=df[['X1', 'X2', 'X3', 'X4']], S=100, delta=0.1, onnx=filename, types=(np.float64, np.float64))\n",
    "aps[:5]"
   ]
  },
  {
   "cell_type": "code",
   "execution_count": 100,
   "metadata": {},
   "outputs": [
    {
     "data": {
      "text/plain": [
       "[<matplotlib.lines.Line2D at 0x7f8695d99690>]"
      ]
     },
     "execution_count": 100,
     "metadata": {},
     "output_type": "execute_result"
    },
    {
     "data": {
      "image/png": "[encoded data removed]",
      "text/plain": [
       "<Figure size 432x288 with 1 Axes>"
      ]
     },
     "metadata": {
      "needs_background": "light"
     },
     "output_type": "display_data"
    }
   ],
   "source": [
    "import matplotlib.pyplot as plt\n",
    "\n",
    "plt.plot(aps)"
   ]
  },
  {
   "cell_type": "markdown",
   "metadata": {},
   "source": [
    "### 4. Treatment effect estimation"
   ]
  },
  {
   "cell_type": "markdown",
   "metadata": {},
   "source": [
    "We can now estimate LATE using our IV approach. Our primary estimation function is `estimate_treatment_effect`. Similar to QPS estimation, we can pass in our inputs in a variety of ways. The function returns a tuple containing an array of counterfactual values and the fitted estimation model. Our package makes use of the modules in the `linearmodels` package to estimate and output the fitted models. "
   ]
  },
  {
   "cell_type": "code",
   "execution_count": 91,
   "metadata": {},
   "outputs": [],
   "source": [
    "from IVaps import estimate_treatment_effect"
   ]
  },
  {
   "cell_type": "code",
   "execution_count": 92,
   "metadata": {},
   "outputs": [
    {
     "name": "stdout",
     "output_type": "stream",
     "text": [
      "Indices for ['Y', 'Z', 'D', 'QPS'] not explicitly passed. Assuming remaining columns in order ['Y', 'Z', 'D', 'QPS']...\n",
      "We will fit on 150 values out of 150 from the dataset for which the QPS estimation is nondegenerate.\n",
      "                          IV-2SLS Estimation Summary                          \n",
      "==============================================================================\n",
      "Dep. Variable:                      Y   R-squared:                     -0.2186\n",
      "Estimator:                    IV-2SLS   Adj. R-squared:                -0.2352\n",
      "No. Observations:                 150   F-statistic:                    3.0899\n",
      "Date:                Sat, Nov 07 2020   P-value (F-stat)                0.2133\n",
      "Time:                        18:41:00   Distribution:                  chi2(2)\n",
      "Cov. Estimator:                robust                                         \n",
      "                                                                              \n",
      "                             Parameter Estimates                              \n",
      "==============================================================================\n",
      "            Parameter  Std. Err.     T-stat    P-value    Lower CI    Upper CI\n",
      "------------------------------------------------------------------------------\n",
      "const          21.105     1.6923     12.471     0.0000      17.788      24.422\n",
      "qps            11.802     8.0320     1.4694     0.1417     -3.9402      27.545\n",
      "D             -11.957     10.738    -1.1136     0.2655     -33.003      9.0880\n",
      "==============================================================================\n",
      "\n",
      "Endogenous: D\n",
      "Instruments: Z\n",
      "Robust Covariance (Heteroskedastic)\n",
      "Debiased: False\n",
      "Indices for ['Z', 'QPS'] not explicitly passed. Assuming remaining columns in order ['Z', 'QPS']...\n",
      "We will fit on 150 values out of 150 from the dataset for which the QPS estimation is nondegenerate.\n",
      "                          IV-2SLS Estimation Summary                          \n",
      "==============================================================================\n",
      "Dep. Variable:                      Y   R-squared:                     -0.2186\n",
      "Estimator:                    IV-2SLS   Adj. R-squared:                -0.2352\n",
      "No. Observations:                 150   F-statistic:                    3.0899\n",
      "Date:                Sat, Nov 07 2020   P-value (F-stat)                0.2133\n",
      "Time:                        18:41:00   Distribution:                  chi2(2)\n",
      "Cov. Estimator:                robust                                         \n",
      "                                                                              \n",
      "                             Parameter Estimates                              \n",
      "==============================================================================\n",
      "            Parameter  Std. Err.     T-stat    P-value    Lower CI    Upper CI\n",
      "------------------------------------------------------------------------------\n",
      "const          21.105     1.6923     12.471     0.0000      17.788      24.422\n",
      "qps            11.802     8.0320     1.4694     0.1417     -3.9402      27.545\n",
      "D             -11.957     10.738    -1.1136     0.2655     -33.003      9.0880\n",
      "==============================================================================\n",
      "\n",
      "Endogenous: D\n",
      "Instruments: Z\n",
      "Robust Covariance (Heteroskedastic)\n",
      "Debiased: False\n",
      "Indices for ['Z', 'D'] not explicitly passed. Assuming remaining columns in order ['Z', 'D']...\n",
      "We will fit on 150 values out of 150 from the dataset for which the QPS estimation is nondegenerate.\n",
      "                          IV-2SLS Estimation Summary                          \n",
      "==============================================================================\n",
      "Dep. Variable:                      Y   R-squared:                     -0.2186\n",
      "Estimator:                    IV-2SLS   Adj. R-squared:                -0.2352\n",
      "No. Observations:                 150   F-statistic:                    3.0899\n",
      "Date:                Sat, Nov 07 2020   P-value (F-stat)                0.2133\n",
      "Time:                        18:41:00   Distribution:                  chi2(2)\n",
      "Cov. Estimator:                robust                                         \n",
      "                                                                              \n",
      "                             Parameter Estimates                              \n",
      "==============================================================================\n",
      "            Parameter  Std. Err.     T-stat    P-value    Lower CI    Upper CI\n",
      "------------------------------------------------------------------------------\n",
      "const          21.105     1.6923     12.471     0.0000      17.788      24.422\n",
      "qps            11.802     8.0320     1.4694     0.1417     -3.9402      27.545\n",
      "D             -11.957     10.738    -1.1136     0.2655     -33.003      9.0880\n",
      "==============================================================================\n",
      "\n",
      "Endogenous: D\n",
      "Instruments: Z\n",
      "Robust Covariance (Heteroskedastic)\n",
      "Debiased: False\n",
      "We will fit on 150 values out of 150 from the dataset for which the QPS estimation is nondegenerate.\n",
      "                          IV-2SLS Estimation Summary                          \n",
      "==============================================================================\n",
      "Dep. Variable:                      Y   R-squared:                     -0.2186\n",
      "Estimator:                    IV-2SLS   Adj. R-squared:                -0.2352\n",
      "No. Observations:                 150   F-statistic:                    3.0899\n",
      "Date:                Sat, Nov 07 2020   P-value (F-stat)                0.2133\n",
      "Time:                        18:41:00   Distribution:                  chi2(2)\n",
      "Cov. Estimator:                robust                                         \n",
      "                                                                              \n",
      "                             Parameter Estimates                              \n",
      "==============================================================================\n",
      "            Parameter  Std. Err.     T-stat    P-value    Lower CI    Upper CI\n",
      "------------------------------------------------------------------------------\n",
      "const          21.105     1.6923     12.471     0.0000      17.788      24.422\n",
      "qps            11.802     8.0320     1.4694     0.1417     -3.9402      27.545\n",
      "D             -11.957     10.738    -1.1136     0.2655     -33.003      9.0880\n",
      "==============================================================================\n",
      "\n",
      "Endogenous: D\n",
      "Instruments: Z\n",
      "Robust Covariance (Heteroskedastic)\n",
      "Debiased: False\n"
     ]
    },
    {
     "name": "stderr",
     "output_type": "stream",
     "text": [
      "/Users/rl874/opt/anaconda3/envs/mlisne/lib/python3.7/site-packages/linearmodels/iv/data.py:25: FutureWarning: is_categorical is deprecated and will be removed in a future version.  Use is_categorical_dtype instead\n",
      "  if is_categorical(s):\n"
     ]
    }
   ],
   "source": [
    "# Again we demonstrate the different ways of passing inputs\n",
    "treatment_df = pd.DataFrame({\"Y\": df['Y'], 'Z': df['Z'], 'D': df['D'], 'QPS':qps})\n",
    "\n",
    "# Without any indices passed, the function will infer all the variable columns\n",
    "model0 = estimate_treatment_effect(data = treatment_df)\n",
    "\n",
    "# We can specify some of the indices\n",
    "model1 = estimate_treatment_effect(data = treatment_df, D_ind = 2, Y_ind = 0)\n",
    "\n",
    "# We can also pass a subset of the variables directly\n",
    "model2 = estimate_treatment_effect(data = treatment_df[['Z', 'D']], Y = treatment_df['Y'], qps = treatment_df['QPS'])\n",
    "\n",
    "# We can also pass all the variables directly\n",
    "model3 = estimate_treatment_effect(Y = treatment_df['Y'], Z = treatment_df['Z'], D = treatment_df['D'], qps = treatment_df['QPS'])\n",
    "\n",
    "assert np.allclose(model0.params.to_numpy().flatten(), model1.params.to_numpy().flatten())\n",
    "assert np.array_equal(model1.params.to_numpy().flatten(), model2.params.to_numpy().flatten())\n",
    "assert np.array_equal(model1.params.to_numpy().flatten(), model3.params.to_numpy().flatten())"
   ]
  },
  {
   "cell_type": "code",
   "execution_count": 93,
   "metadata": {},
   "outputs": [
    {
     "name": "stdout",
     "output_type": "stream",
     "text": [
      "Treatment effect estimate: -11.957283136631759\n",
      "True LATE: 5.004023609441949\n"
     ]
    }
   ],
   "source": [
    "est_treatment = model0.params['D']\n",
    "print(\"Treatment effect estimate:\", est_treatment)\n",
    "print(\"True LATE:\", late)"
   ]
  },
  {
   "cell_type": "markdown",
   "metadata": {},
   "source": [
    "The fitted model also provides other estimation diagnostics"
   ]
  },
  {
   "cell_type": "code",
   "execution_count": 94,
   "metadata": {},
   "outputs": [
    {
     "name": "stdout",
     "output_type": "stream",
     "text": [
      "First stage coefficients: const   -0.000403\n",
      "qps      0.015128\n",
      "Z        0.704335\n",
      "Name: parameter, dtype: float64\n",
      "First stage p-values: const    0.957223\n",
      "qps      0.957222\n",
      "Z        0.008332\n",
      "Name: pvalue, dtype: float64\n",
      "First stage r2: 0.44431958868711696\n"
     ]
    }
   ],
   "source": [
    "# First stage details\n",
    "fs = model0.first_stage.individual['D']\n",
    "\n",
    "print(\"First stage coefficients:\", fs.params)\n",
    "print(\"First stage p-values:\", fs.pvalues)\n",
    "print(\"First stage r2:\", fs.rsquared)"
   ]
  },
  {
   "cell_type": "code",
   "execution_count": 95,
   "metadata": {},
   "outputs": [
    {
     "name": "stdout",
     "output_type": "stream",
     "text": [
      "                            OLS Estimation Summary                            \n",
      "==============================================================================\n",
      "Dep. Variable:                      D   R-squared:                      0.4443\n",
      "Estimator:                        OLS   Adj. R-squared:                 0.4368\n",
      "No. Observations:                 150   F-statistic:                    262.85\n",
      "Date:                Sat, Nov 07 2020   P-value (F-stat)                0.0000\n",
      "Time:                        18:41:17   Distribution:                  chi2(2)\n",
      "Cov. Estimator:                robust                                         \n",
      "                                                                              \n",
      "                             Parameter Estimates                              \n",
      "==============================================================================\n",
      "            Parameter  Std. Err.     T-stat    P-value    Lower CI    Upper CI\n",
      "------------------------------------------------------------------------------\n",
      "const         -0.0004     0.0075    -0.0536     0.9572     -0.0151      0.0143\n",
      "qps            0.0151     0.2820     0.0536     0.9572     -0.5376      0.5679\n",
      "Z              0.7043     0.2670     2.6383     0.0083      0.1811      1.2276\n",
      "==============================================================================\n"
     ]
    }
   ],
   "source": [
    "print(fs)"
   ]
  },
  {
   "cell_type": "markdown",
   "metadata": {},
   "source": [
    "#### The above estimate is not particularly precise given the small sample size. Let's re-simulate the treatment effects with a larger sample size of 10000 by bootstrapping from iris"
   ]
  },
  {
   "cell_type": "code",
   "execution_count": 109,
   "metadata": {},
   "outputs": [],
   "source": [
    "# Bootstrap 10000 draws from iris data and re-generate outcome data\n",
    "x_mean = np.mean(X, axis = 0)\n",
    "x_sd = np.std(X, axis = 0)\n",
    "X_sim = np.random.normal(x_mean, x_sd, size = (10000,4))"
   ]
  },
  {
   "cell_type": "markdown",
   "metadata": {},
   "source": [
    "Treatment equations replicated below:\n",
    "\\begin{align}\n",
    "Y_{0i} &= \\mathcal{N}(2,2)x_{1i} + \\mathcal{N}(3,1)x_{2i} + \\mathcal{N}(0,1) \\\\\n",
    "Y_{1i} &= Y_{0i} + \\mathcal{N}(5,0.2) + \\mathcal{N}(0,1)\n",
    "\\end{align}\n",
    "\n",
    "Where $x_{1}$ and $x_{2}$ refer to the first and second variables of input X. "
   ]
  },
  {
   "cell_type": "code",
   "execution_count": 110,
   "metadata": {},
   "outputs": [],
   "source": [
    "# Generate coefficients for observations\n",
    "b1 = np.random.normal(2,2,len(X_sim))\n",
    "b2 = np.random.normal(3,1,len(X_sim))\n",
    "e0 = np.random.normal(0,1,len(X_sim))\n",
    "treatment_effect = np.random.normal(5,0.2, len(X_sim))\n",
    "e1 = np.random.normal(0,1,len(X_sim))\n",
    "\n",
    "Y0 = b1 * X_sim[:,0] + b2 * X_sim[:,1] + e0\n",
    "Y1 = Y0 + treatment_effect + e1"
   ]
  },
  {
   "cell_type": "code",
   "execution_count": 114,
   "metadata": {},
   "outputs": [
    {
     "name": "stdout",
     "output_type": "stream",
     "text": [
      "[0.02831431 0.13754501 0.99792862 0.92453548 0.01094307]\n",
      "[0 0 1 1 0]\n",
      "(10000, 8)\n"
     ]
    }
   ],
   "source": [
    "# Create treatment recommendation probabilities\n",
    "Z_probs = clr.predict_proba(X_sim)[:,1]\n",
    "print(Z_probs[:5])\n",
    "\n",
    "# Draw treatment recommendations\n",
    "recommend_prob = np.random.uniform(size=len(X_sim))\n",
    "Z = (recommend_prob <= Z_probs).astype(int)\n",
    "print(Z[:5])\n",
    "\n",
    "# Realized assignment follows recommended assignment 75% of the time\n",
    "treatment_prob = np.random.uniform(size=len(X_sim))\n",
    "D = []\n",
    "for i in range(len(treatment_prob)):\n",
    "    if Z[i] == 1:\n",
    "        if treatment_prob[i] >= 0.75:\n",
    "            D.append(0)\n",
    "        else:\n",
    "            D.append(1)\n",
    "    else:\n",
    "        D.append(Z[i])\n",
    "        \n",
    "sim_data = np.stack((Y0, Y1, Z, D), axis=1)\n",
    "full_data = np.concatenate((sim_data, X_sim), axis=1)\n",
    "print(full_data.shape)"
   ]
  },
  {
   "cell_type": "code",
   "execution_count": 124,
   "metadata": {},
   "outputs": [],
   "source": [
    "cols = ['Y0', 'Y1', 'Z', 'D', 'X1', 'X2', 'X3', 'X4']\n",
    "df = pd.DataFrame(data = full_data, columns=cols)\n",
    "df['Y'] = df['Y1']\n",
    "df.loc[df['D']==0, 'Y'] = df.loc[df['D']==0, 'Y0']"
   ]
  },
  {
   "cell_type": "code",
   "execution_count": 125,
   "metadata": {
    "scrolled": true
   },
   "outputs": [
    {
     "name": "stdout",
     "output_type": "stream",
     "text": [
      "Constant: 20.955120853047653\n",
      "ATE: 4.993884167072131\n",
      "ATET: 5.003461908160361\n",
      "LATE: 4.998657376663639\n",
      "`data` given but no indices passed. We will assume that all the variables in `data` are continuous.\n",
      "We will fit on 100 values out of 100 from the dataset for which the QPS estimation is nondegenerate.\n",
      "Estimated LATE: 3.399117106401775\n",
      "Estimated LATE SE: 7.0624782110057485\n",
      "----------------------------------------------------------------------------------------------------\n",
      "`data` given but no indices passed. We will assume that all the variables in `data` are continuous.\n"
     ]
    },
    {
     "name": "stderr",
     "output_type": "stream",
     "text": [
      "/Users/rl874/opt/anaconda3/envs/mlisne/lib/python3.7/site-packages/linearmodels/iv/data.py:25: FutureWarning: is_categorical is deprecated and will be removed in a future version.  Use is_categorical_dtype instead\n",
      "  if is_categorical(s):\n"
     ]
    },
    {
     "name": "stdout",
     "output_type": "stream",
     "text": [
      "We will fit on 1000 values out of 1000 from the dataset for which the QPS estimation is nondegenerate.\n",
      "Estimated LATE: 2.915690501676977\n",
      "Estimated LATE SE: 2.0208268925613133\n",
      "----------------------------------------------------------------------------------------------------\n",
      "`data` given but no indices passed. We will assume that all the variables in `data` are continuous.\n",
      "We will fit on 10000 values out of 10000 from the dataset for which the QPS estimation is nondegenerate.\n",
      "Estimated LATE: 4.683976830613005\n",
      "Estimated LATE SE: 0.6141624837178257\n",
      "----------------------------------------------------------------------------------------------------\n"
     ]
    }
   ],
   "source": [
    "constant = df.Y0.mean()\n",
    "ate = (df.Y1 - df.Y0).mean()\n",
    "atet = (df.loc[df['D'] == 1, 'Y1'] - df.loc[df['D'] == 1, 'Y0']).mean()\n",
    "late = (df.loc[(df['D'] == df['Z']), 'Y1'] - df.loc[(df['D'] == df['Z']), 'Y0']).mean()\n",
    "print(f\"Constant: {constant}\")\n",
    "print(f\"ATE: {ate}\")\n",
    "print(f\"ATET: {atet}\")\n",
    "print(f\"LATE: {late}\")\n",
    "    \n",
    "for mult in [100, 1000, 10000]:\n",
    "    dup_df = df.iloc[:mult, :]    \n",
    "    qps = estimate_qps_onnx(data=dup_df[['X1', 'X2', 'X3', 'X4']], S=100, delta=0.8, onnx=filename)\n",
    "    model = estimate_treatment_effect(Y = dup_df['Y'], Z = dup_df['Z'], D = dup_df['D'], qps = qps, verbose = False)\n",
    "    print(f\"Estimated LATE: {model.params['D']}\")\n",
    "    print(f\"Estimated LATE SE: {model.std_errors['D']}\")\n",
    "    print(\"-\"*100)"
   ]
  },
  {
   "cell_type": "code",
   "execution_count": null,
   "metadata": {},
   "outputs": [],
   "source": []
  }
 ],
 "metadata": {
  "kernelspec": {
   "display_name": "Python 3",
   "language": "python",
   "name": "python3"
  },
  "language_info": {
   "codemirror_mode": {
    "name": "ipython",
    "version": 3
   },
   "file_extension": ".py",
   "mimetype": "text/x-python",
   "name": "python",
   "nbconvert_exporter": "python",
   "pygments_lexer": "ipython3",
   "version": "3.7.9"
  }
 },
 "nbformat": 4,
 "nbformat_minor": 4
}
