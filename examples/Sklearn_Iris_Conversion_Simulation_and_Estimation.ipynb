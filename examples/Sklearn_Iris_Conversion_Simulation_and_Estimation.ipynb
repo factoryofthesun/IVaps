{
 "cells": [
  {
   "cell_type": "markdown",
   "metadata": {},
   "source": [
    "# Sklearn Example: LogisticRegression and Iris"
   ]
  },
  {
   "cell_type": "markdown",
   "metadata": {},
   "source": [
    "In this example we will train as LogisticRegression model on the iris dataset, convert it to ONNX format, simulate historical treatment data, then estimate the treatment effects using our IV estimation method."
   ]
  },
  {
   "cell_type": "markdown",
   "metadata": {},
   "source": [
    "### 1. Train and Convert"
   ]
  },
  {
   "cell_type": "code",
   "execution_count": 1,
   "metadata": {},
   "outputs": [],
   "source": [
    "import sys\n",
    "import os\n",
    "import pandas as pd\n",
    "import numpy as np\n",
    "from pathlib import Path\n",
    "from sklearn.datasets import load_iris"
   ]
  },
  {
   "cell_type": "code",
   "execution_count": 2,
   "metadata": {},
   "outputs": [],
   "source": [
    "iris = load_iris()\n",
    "X, y = iris.data, iris.target"
   ]
  },
  {
   "cell_type": "markdown",
   "metadata": {},
   "source": [
    "In this example, X consists of 4 continuous variables"
   ]
  },
  {
   "cell_type": "code",
   "execution_count": 3,
   "metadata": {},
   "outputs": [
    {
     "name": "stdout",
     "output_type": "stream",
     "text": [
      "Dtype: float64 \n",
      "Shape: (150, 4)\n"
     ]
    }
   ],
   "source": [
    "print(\"Dtype:\", X.dtype, \"\\nShape:\", X.shape)"
   ]
  },
  {
   "cell_type": "markdown",
   "metadata": {},
   "source": [
    "Our estimation method relies on binary treatment assignment, so here let's assume that iris classifications of 1 or 2 indicate treatment recommendation."
   ]
  },
  {
   "cell_type": "code",
   "execution_count": 4,
   "metadata": {},
   "outputs": [],
   "source": [
    "y[y>0] = 1"
   ]
  },
  {
   "cell_type": "code",
   "execution_count": 5,
   "metadata": {},
   "outputs": [],
   "source": [
    "from sklearn.model_selection import train_test_split\n",
    "from sklearn.linear_model import LogisticRegression \n",
    "\n",
    "X_train, X_test, y_train, y_test = train_test_split(X, y)"
   ]
  },
  {
   "cell_type": "code",
   "execution_count": 6,
   "metadata": {},
   "outputs": [
    {
     "data": {
      "text/plain": [
       "LogisticRegression()"
      ]
     },
     "execution_count": 6,
     "metadata": {},
     "output_type": "execute_result"
    }
   ],
   "source": [
    "clr = LogisticRegression()\n",
    "clr.fit(X_train, y_train)"
   ]
  },
  {
   "cell_type": "code",
   "execution_count": 7,
   "metadata": {},
   "outputs": [
    {
     "data": {
      "text/plain": [
       "array([[9.79075013e-01, 2.09249867e-02],\n",
       "       [9.55477161e-01, 4.45228389e-02],\n",
       "       [2.92488870e-04, 9.99707511e-01],\n",
       "       [5.59683002e-04, 9.99440317e-01],\n",
       "       [9.93269042e-01, 6.73095793e-03]])"
      ]
     },
     "execution_count": 7,
     "metadata": {},
     "output_type": "execute_result"
    }
   ],
   "source": [
    "clr.predict_proba(X_test)[:5]"
   ]
  },
  {
   "cell_type": "code",
   "execution_count": 8,
   "metadata": {},
   "outputs": [],
   "source": [
    "import pickle \n",
    "\n",
    "# Save model\n",
    "with open(f\"models/iris_logreg.pickle\", \"wb\") as f:\n",
    "    pickle.dump(clr, f)"
   ]
  },
  {
   "cell_type": "markdown",
   "metadata": {},
   "source": [
    "Now let's load back in the model and convert to ONNX. This step is necessary because our QPS estimation procedure only takes ONNX models for inference."
   ]
  },
  {
   "cell_type": "code",
   "execution_count": 9,
   "metadata": {},
   "outputs": [
    {
     "data": {
      "text/plain": [
       "{'C': 1.0,\n",
       " 'class_weight': None,\n",
       " 'dual': False,\n",
       " 'fit_intercept': True,\n",
       " 'intercept_scaling': 1,\n",
       " 'l1_ratio': None,\n",
       " 'max_iter': 100,\n",
       " 'multi_class': 'auto',\n",
       " 'n_jobs': None,\n",
       " 'penalty': 'l2',\n",
       " 'random_state': None,\n",
       " 'solver': 'lbfgs',\n",
       " 'tol': 0.0001,\n",
       " 'verbose': 0,\n",
       " 'warm_start': False}"
      ]
     },
     "execution_count": 9,
     "metadata": {},
     "output_type": "execute_result"
    }
   ],
   "source": [
    "model = pickle.load(open(f\"models/iris_logreg.pickle\", 'rb'))\n",
    "model.get_params()"
   ]
  },
  {
   "cell_type": "markdown",
   "metadata": {},
   "source": [
    "The mlisne package provides an ONNX conversion wrapper function that requires a dummy input and framework string to process datatypes and run the correct conversion function."
   ]
  },
  {
   "cell_type": "code",
   "execution_count": 10,
   "metadata": {},
   "outputs": [
    {
     "data": {
      "text/plain": [
       "ir_version: 4\n",
       "producer_name: \"skl2onnx\"\n",
       "producer_version: \"1.7.0\"\n",
       "domain: \"ai.onnx\"\n",
       "model_version: 0\n",
       "doc_string: \"\"\n",
       "graph {\n",
       "  node {\n",
       "    input: \"c_inputs\"\n",
       "    output: \"label\"\n",
       "    output: \"probability_tensor\"\n",
       "    name: \"LinearClassifier\"\n",
       "    op_type: \"LinearClassifier\"\n",
       "    attribute {\n",
       "      name: \"classlabels_ints\"\n",
       "      ints: 0\n",
       "      ints: 1\n",
       "      type: INTS\n",
       "    }\n",
       "    attribute {\n",
       "      name: \"coefficients\"\n",
       "      floats: -0.36914926767349243\n",
       "      floats: 0.8781521916389465\n",
       "      floats: -2.190574884414673\n",
       "      floats: -0.9456391334533691\n",
       "      floats: 0.36914926767349243\n",
       "      floats: -0.8781521916389465\n",
       "      floats: 2.190574884414673\n",
       "      floats: 0.9456391334533691\n",
       "      type: FLOATS\n",
       "    }\n",
       "    attribute {\n",
       "      name: \"intercepts\"\n",
       "      floats: 5.9107255935668945\n",
       "      floats: -5.9107255935668945\n",
       "      type: FLOATS\n",
       "    }\n",
       "    attribute {\n",
       "      name: \"multi_class\"\n",
       "      i: 1\n",
       "      type: INT\n",
       "    }\n",
       "    attribute {\n",
       "      name: \"post_transform\"\n",
       "      s: \"LOGISTIC\"\n",
       "      type: STRING\n",
       "    }\n",
       "    domain: \"ai.onnx.ml\"\n",
       "  }\n",
       "  node {\n",
       "    input: \"probability_tensor\"\n",
       "    output: \"probabilities\"\n",
       "    name: \"Normalizer\"\n",
       "    op_type: \"Normalizer\"\n",
       "    attribute {\n",
       "      name: \"norm\"\n",
       "      s: \"L1\"\n",
       "      type: STRING\n",
       "    }\n",
       "    domain: \"ai.onnx.ml\"\n",
       "  }\n",
       "  node {\n",
       "    input: \"label\"\n",
       "    output: \"output_label\"\n",
       "    name: \"Cast\"\n",
       "    op_type: \"Cast\"\n",
       "    attribute {\n",
       "      name: \"to\"\n",
       "      i: 7\n",
       "      type: INT\n",
       "    }\n",
       "    domain: \"\"\n",
       "  }\n",
       "  node {\n",
       "    input: \"probabilities\"\n",
       "    output: \"output_probability\"\n",
       "    name: \"ZipMap\"\n",
       "    op_type: \"ZipMap\"\n",
       "    attribute {\n",
       "      name: \"classlabels_int64s\"\n",
       "      ints: 0\n",
       "      ints: 1\n",
       "      type: INTS\n",
       "    }\n",
       "    domain: \"ai.onnx.ml\"\n",
       "  }\n",
       "  name: \"7db77d68e2e0491ab741c7f1fd16e3ec\"\n",
       "  input {\n",
       "    name: \"c_inputs\"\n",
       "    type {\n",
       "      tensor_type {\n",
       "        elem_type: 11\n",
       "        shape {\n",
       "          dim {\n",
       "          }\n",
       "          dim {\n",
       "            dim_value: 4\n",
       "          }\n",
       "        }\n",
       "      }\n",
       "    }\n",
       "  }\n",
       "  output {\n",
       "    name: \"output_label\"\n",
       "    type {\n",
       "      tensor_type {\n",
       "        elem_type: 7\n",
       "        shape {\n",
       "          dim {\n",
       "          }\n",
       "        }\n",
       "      }\n",
       "    }\n",
       "  }\n",
       "  output {\n",
       "    name: \"output_probability\"\n",
       "    type {\n",
       "      sequence_type {\n",
       "        elem_type {\n",
       "          map_type {\n",
       "            key_type: 7\n",
       "            value_type {\n",
       "              tensor_type {\n",
       "                elem_type: 1\n",
       "              }\n",
       "            }\n",
       "          }\n",
       "        }\n",
       "      }\n",
       "    }\n",
       "  }\n",
       "}\n",
       "opset_import {\n",
       "  domain: \"\"\n",
       "  version: 9\n",
       "}\n",
       "opset_import {\n",
       "  domain: \"ai.onnx.ml\"\n",
       "  version: 1\n",
       "}"
      ]
     },
     "execution_count": 10,
     "metadata": {},
     "output_type": "execute_result"
    }
   ],
   "source": [
    "from mlisne import convert_to_onnx\n",
    "\n",
    "X_dummy = X[0,:]\n",
    "filename = \"models/iris_logreg.onnx\"\n",
    "\n",
    "convert_to_onnx(model = model, dummy_input1 = X_dummy, output_path = filename, framework = \"sklearn\")"
   ]
  },
  {
   "cell_type": "markdown",
   "metadata": {},
   "source": [
    "The wrapper function will also pass on any keyword arguments to the downstream conversion function"
   ]
  },
  {
   "cell_type": "code",
   "execution_count": 11,
   "metadata": {},
   "outputs": [
    {
     "data": {
      "text/plain": [
       "ir_version: 4\n",
       "producer_name: \"skl2onnx\"\n",
       "producer_version: \"1.7.0\"\n",
       "domain: \"ai.onnx\"\n",
       "model_version: 0\n",
       "doc_string: \"Sklearn LogisticRegression model trained on iris dataset\"\n",
       "graph {\n",
       "  node {\n",
       "    input: \"c_inputs\"\n",
       "    output: \"label\"\n",
       "    output: \"probability_tensor\"\n",
       "    name: \"LinearClassifier\"\n",
       "    op_type: \"LinearClassifier\"\n",
       "    attribute {\n",
       "      name: \"classlabels_ints\"\n",
       "      ints: 0\n",
       "      ints: 1\n",
       "      type: INTS\n",
       "    }\n",
       "    attribute {\n",
       "      name: \"coefficients\"\n",
       "      floats: -0.36914926767349243\n",
       "      floats: 0.8781521916389465\n",
       "      floats: -2.190574884414673\n",
       "      floats: -0.9456391334533691\n",
       "      floats: 0.36914926767349243\n",
       "      floats: -0.8781521916389465\n",
       "      floats: 2.190574884414673\n",
       "      floats: 0.9456391334533691\n",
       "      type: FLOATS\n",
       "    }\n",
       "    attribute {\n",
       "      name: \"intercepts\"\n",
       "      floats: 5.9107255935668945\n",
       "      floats: -5.9107255935668945\n",
       "      type: FLOATS\n",
       "    }\n",
       "    attribute {\n",
       "      name: \"multi_class\"\n",
       "      i: 1\n",
       "      type: INT\n",
       "    }\n",
       "    attribute {\n",
       "      name: \"post_transform\"\n",
       "      s: \"LOGISTIC\"\n",
       "      type: STRING\n",
       "    }\n",
       "    domain: \"ai.onnx.ml\"\n",
       "  }\n",
       "  node {\n",
       "    input: \"probability_tensor\"\n",
       "    output: \"probabilities\"\n",
       "    name: \"Normalizer\"\n",
       "    op_type: \"Normalizer\"\n",
       "    attribute {\n",
       "      name: \"norm\"\n",
       "      s: \"L1\"\n",
       "      type: STRING\n",
       "    }\n",
       "    domain: \"ai.onnx.ml\"\n",
       "  }\n",
       "  node {\n",
       "    input: \"label\"\n",
       "    output: \"output_label\"\n",
       "    name: \"Cast\"\n",
       "    op_type: \"Cast\"\n",
       "    attribute {\n",
       "      name: \"to\"\n",
       "      i: 7\n",
       "      type: INT\n",
       "    }\n",
       "    domain: \"\"\n",
       "  }\n",
       "  node {\n",
       "    input: \"probabilities\"\n",
       "    output: \"output_probability\"\n",
       "    name: \"ZipMap\"\n",
       "    op_type: \"ZipMap\"\n",
       "    attribute {\n",
       "      name: \"classlabels_int64s\"\n",
       "      ints: 0\n",
       "      ints: 1\n",
       "      type: INTS\n",
       "    }\n",
       "    domain: \"ai.onnx.ml\"\n",
       "  }\n",
       "  name: \"0ea724d391ee4da7beae23b28e5223be\"\n",
       "  input {\n",
       "    name: \"c_inputs\"\n",
       "    type {\n",
       "      tensor_type {\n",
       "        elem_type: 11\n",
       "        shape {\n",
       "          dim {\n",
       "          }\n",
       "          dim {\n",
       "            dim_value: 4\n",
       "          }\n",
       "        }\n",
       "      }\n",
       "    }\n",
       "  }\n",
       "  output {\n",
       "    name: \"output_label\"\n",
       "    type {\n",
       "      tensor_type {\n",
       "        elem_type: 7\n",
       "        shape {\n",
       "          dim {\n",
       "          }\n",
       "        }\n",
       "      }\n",
       "    }\n",
       "  }\n",
       "  output {\n",
       "    name: \"output_probability\"\n",
       "    type {\n",
       "      sequence_type {\n",
       "        elem_type {\n",
       "          map_type {\n",
       "            key_type: 7\n",
       "            value_type {\n",
       "              tensor_type {\n",
       "                elem_type: 1\n",
       "              }\n",
       "            }\n",
       "          }\n",
       "        }\n",
       "      }\n",
       "    }\n",
       "  }\n",
       "}\n",
       "opset_import {\n",
       "  domain: \"\"\n",
       "  version: 9\n",
       "}\n",
       "opset_import {\n",
       "  domain: \"ai.onnx.ml\"\n",
       "  version: 1\n",
       "}"
      ]
     },
     "execution_count": 11,
     "metadata": {},
     "output_type": "execute_result"
    }
   ],
   "source": [
    "convert_to_onnx(model=model, dummy_input1=X_dummy, output_path=filename, framework=\"sklearn\", target_opset=12, \n",
    "                doc_string=\"Sklearn LogisticRegression model trained on iris dataset\")"
   ]
  },
  {
   "cell_type": "markdown",
   "metadata": {},
   "source": [
    "### 2. Simulate historical treatment data"
   ]
  },
  {
   "cell_type": "markdown",
   "metadata": {},
   "source": [
    "Let's simulate treatment and non-treatment outcomes for each observation i with the following structural equations:\n",
    "\\begin{align}\n",
    "Y_{0i} &= \\mathcal{N}(2,2)x_{1i} + \\mathcal{N}(3,1)x_{2i} + \\mathcal{N}(0,3) \\\\\n",
    "Y_{1i} &= Y_{0i} + \\mathcal{N}(5,1) + \\mathcal{N}(0,1)\n",
    "\\end{align}\n",
    "\n",
    "Where $x_{1}$ and $x_{2}$ refer to the first and second variables of input X. "
   ]
  },
  {
   "cell_type": "code",
   "execution_count": 12,
   "metadata": {},
   "outputs": [],
   "source": [
    "# Generate coefficients for observations\n",
    "b1 = np.random.normal(2,2,len(X))\n",
    "b2 = np.random.normal(3,1,len(X))\n",
    "e0 = np.random.normal(0,3,len(X))\n",
    "treatment_effect = np.random.normal(5,1, len(X))\n",
    "e1 = np.random.normal(0,1,len(X))"
   ]
  },
  {
   "cell_type": "code",
   "execution_count": 13,
   "metadata": {},
   "outputs": [],
   "source": [
    "Y0 = b1 * X[:,0] + b2 * X[:,1] + e0\n",
    "Y1 = Y0 + treatment_effect + e1"
   ]
  },
  {
   "cell_type": "markdown",
   "metadata": {},
   "source": [
    "Generate treatment recommendation probabilities using our trained model. Let's assume that the treatment is assigned when the model recommends assignment 75% of the time (no-defiers assumption)."
   ]
  },
  {
   "cell_type": "code",
   "execution_count": 14,
   "metadata": {},
   "outputs": [
    {
     "data": {
      "text/plain": [
       "array([0.02092499, 0.02987456, 0.0189107 , 0.03047438, 0.01851666])"
      ]
     },
     "execution_count": 14,
     "metadata": {},
     "output_type": "execute_result"
    }
   ],
   "source": [
    "# Create treatment recommendation probabilities\n",
    "Z_probs = clr.predict_proba(X)[:,1]\n",
    "Z_probs[:5]"
   ]
  },
  {
   "cell_type": "code",
   "execution_count": 15,
   "metadata": {},
   "outputs": [
    {
     "data": {
      "text/plain": [
       "array([0, 0, 0, 0, 0])"
      ]
     },
     "execution_count": 15,
     "metadata": {},
     "output_type": "execute_result"
    }
   ],
   "source": [
    "# Draw treatment recommendations\n",
    "recommend_prob = np.random.uniform(size=len(X))\n",
    "Z = (recommend_prob <= Z_probs).astype(int)\n",
    "Z[:5]"
   ]
  },
  {
   "cell_type": "code",
   "execution_count": 16,
   "metadata": {},
   "outputs": [],
   "source": [
    "# Realized assignment follows recommended assignment 75% of the time\n",
    "treatment_prob = np.random.uniform(size=len(X))\n",
    "D = []\n",
    "for i in range(len(treatment_prob)):\n",
    "    if Z[i] == 1:\n",
    "        if treatment_prob[i] >= 0.75:\n",
    "            D.append(0)\n",
    "        else:\n",
    "            D.append(1)\n",
    "    else:\n",
    "        D.append(Z[i])"
   ]
  },
  {
   "cell_type": "code",
   "execution_count": 17,
   "metadata": {},
   "outputs": [
    {
     "data": {
      "text/plain": [
       "(150, 4)"
      ]
     },
     "execution_count": 17,
     "metadata": {},
     "output_type": "execute_result"
    }
   ],
   "source": [
    "sim_data = np.stack((Y0, Y1, Z, D), axis=1)\n",
    "sim_data.shape"
   ]
  },
  {
   "cell_type": "code",
   "execution_count": 18,
   "metadata": {},
   "outputs": [
    {
     "data": {
      "text/plain": [
       "(150, 8)"
      ]
     },
     "execution_count": 18,
     "metadata": {},
     "output_type": "execute_result"
    }
   ],
   "source": [
    "full_data = np.concatenate((sim_data, X), axis=1)\n",
    "full_data.shape"
   ]
  },
  {
   "cell_type": "code",
   "execution_count": 19,
   "metadata": {},
   "outputs": [],
   "source": [
    "# Save to csv\n",
    "cols = ['Y0', 'Y1', 'Z', 'D', 'X1', 'X2', 'X3', 'X4']\n",
    "df = pd.DataFrame(data = full_data, columns=cols)\n",
    "df['Y'] = df['Y1']\n",
    "df.loc[df['D']==0, 'Y'] = df.loc[df['D']==0, 'Y0']\n",
    "df.to_csv(\"data/iris_data.csv\", index=False)"
   ]
  },
  {
   "cell_type": "code",
   "execution_count": 34,
   "metadata": {},
   "outputs": [
    {
     "name": "stdout",
     "output_type": "stream",
     "text": [
      "Constant: 21.123797418397206\n",
      "ATE: 5.026244496930961\n",
      "ATET: 5.061714331911143\n",
      "LATE: 4.993233601447485\n"
     ]
    }
   ],
   "source": [
    "# Treatment effects \n",
    "constant = df.Y0.mean()\n",
    "ate = (df.Y1 - df.Y0).mean()\n",
    "atet = (df.loc[df['D'] == 1, 'Y1'] - df.loc[df['D'] == 1, 'Y0']).mean()\n",
    "late = (df.loc[(df['D'] == df['Z']), 'Y1'] - df.loc[(df['D'] == df['Z']), 'Y0']).mean()\n",
    "print(f\"Constant: {constant}\")\n",
    "print(f\"ATE: {ate}\")\n",
    "print(f\"ATET: {atet}\")\n",
    "print(f\"LATE: {late}\")"
   ]
  },
  {
   "cell_type": "code",
   "execution_count": 38,
   "metadata": {},
   "outputs": [
    {
     "name": "stdout",
     "output_type": "stream",
     "text": [
      "True treatment effect: 4.955459895004783\n"
     ]
    }
   ],
   "source": [
    "print(f\"True treatment effect: {np.mean(treatment_effect)}\")"
   ]
  },
  {
   "cell_type": "markdown",
   "metadata": {},
   "source": [
    "### 3. QPS Estimation"
   ]
  },
  {
   "cell_type": "markdown",
   "metadata": {},
   "source": [
    "We can pass the simulated historical data and path to the ONNX model directly into our QPS estimation function."
   ]
  },
  {
   "cell_type": "code",
   "execution_count": 21,
   "metadata": {},
   "outputs": [],
   "source": [
    "from mlisne import estimate_qps_onnx"
   ]
  },
  {
   "cell_type": "markdown",
   "metadata": {},
   "source": [
    "The data can be passed in a variety of ways. You can pass the entire dataset with optional variable indices delineating the continuous and discrete variables, the input variables individually, or some combination of the two. If incomplete information is passed, then the remaining data will be inferred **greedily**. That is, the remaining data will be assumed to be of whatever type that is not explicitly delineated. If no indices or explicit variables are given, then all of the data will be assumed to be continuous.\n",
    "\n",
    "For this example, our input data is all continuous."
   ]
  },
  {
   "cell_type": "code",
   "execution_count": 22,
   "metadata": {},
   "outputs": [
    {
     "data": {
      "text/html": [
       "<div>\n",
       "<style scoped>\n",
       "    .dataframe tbody tr th:only-of-type {\n",
       "        vertical-align: middle;\n",
       "    }\n",
       "\n",
       "    .dataframe tbody tr th {\n",
       "        vertical-align: top;\n",
       "    }\n",
       "\n",
       "    .dataframe thead th {\n",
       "        text-align: right;\n",
       "    }\n",
       "</style>\n",
       "<table border=\"1\" class=\"dataframe\">\n",
       "  <thead>\n",
       "    <tr style=\"text-align: right;\">\n",
       "      <th></th>\n",
       "      <th>Y0</th>\n",
       "      <th>Y1</th>\n",
       "      <th>Z</th>\n",
       "      <th>D</th>\n",
       "      <th>X1</th>\n",
       "      <th>X2</th>\n",
       "      <th>X3</th>\n",
       "      <th>X4</th>\n",
       "      <th>Y</th>\n",
       "    </tr>\n",
       "  </thead>\n",
       "  <tbody>\n",
       "    <tr>\n",
       "      <th>0</th>\n",
       "      <td>18.948175</td>\n",
       "      <td>25.483122</td>\n",
       "      <td>0.0</td>\n",
       "      <td>0.0</td>\n",
       "      <td>5.1</td>\n",
       "      <td>3.5</td>\n",
       "      <td>1.4</td>\n",
       "      <td>0.2</td>\n",
       "      <td>18.948175</td>\n",
       "    </tr>\n",
       "    <tr>\n",
       "      <th>1</th>\n",
       "      <td>22.057101</td>\n",
       "      <td>27.080084</td>\n",
       "      <td>0.0</td>\n",
       "      <td>0.0</td>\n",
       "      <td>4.9</td>\n",
       "      <td>3.0</td>\n",
       "      <td>1.4</td>\n",
       "      <td>0.2</td>\n",
       "      <td>22.057101</td>\n",
       "    </tr>\n",
       "    <tr>\n",
       "      <th>2</th>\n",
       "      <td>19.760490</td>\n",
       "      <td>25.463144</td>\n",
       "      <td>0.0</td>\n",
       "      <td>0.0</td>\n",
       "      <td>4.7</td>\n",
       "      <td>3.2</td>\n",
       "      <td>1.3</td>\n",
       "      <td>0.2</td>\n",
       "      <td>19.760490</td>\n",
       "    </tr>\n",
       "    <tr>\n",
       "      <th>3</th>\n",
       "      <td>11.022745</td>\n",
       "      <td>18.377386</td>\n",
       "      <td>0.0</td>\n",
       "      <td>0.0</td>\n",
       "      <td>4.6</td>\n",
       "      <td>3.1</td>\n",
       "      <td>1.5</td>\n",
       "      <td>0.2</td>\n",
       "      <td>11.022745</td>\n",
       "    </tr>\n",
       "    <tr>\n",
       "      <th>4</th>\n",
       "      <td>27.266611</td>\n",
       "      <td>32.355057</td>\n",
       "      <td>0.0</td>\n",
       "      <td>0.0</td>\n",
       "      <td>5.0</td>\n",
       "      <td>3.6</td>\n",
       "      <td>1.4</td>\n",
       "      <td>0.2</td>\n",
       "      <td>27.266611</td>\n",
       "    </tr>\n",
       "  </tbody>\n",
       "</table>\n",
       "</div>"
      ],
      "text/plain": [
       "          Y0         Y1    Z    D   X1   X2   X3   X4          Y\n",
       "0  18.948175  25.483122  0.0  0.0  5.1  3.5  1.4  0.2  18.948175\n",
       "1  22.057101  27.080084  0.0  0.0  4.9  3.0  1.4  0.2  22.057101\n",
       "2  19.760490  25.463144  0.0  0.0  4.7  3.2  1.3  0.2  19.760490\n",
       "3  11.022745  18.377386  0.0  0.0  4.6  3.1  1.5  0.2  11.022745\n",
       "4  27.266611  32.355057  0.0  0.0  5.0  3.6  1.4  0.2  27.266611"
      ]
     },
     "execution_count": 22,
     "metadata": {},
     "output_type": "execute_result"
    }
   ],
   "source": [
    "df.head()"
   ]
  },
  {
   "cell_type": "markdown",
   "metadata": {},
   "source": [
    "In the below cell, we set a random seed and demonstrate different ways of passing data."
   ]
  },
  {
   "cell_type": "code",
   "execution_count": 23,
   "metadata": {},
   "outputs": [
    {
     "name": "stdout",
     "output_type": "stream",
     "text": [
      "`data` given but no indices passed. We will assume that all the variables in `data` are continuous.\n"
     ]
    }
   ],
   "source": [
    "seed = np.random.choice(range(100))\n",
    "\n",
    "# Pass just the input columns -- all variables are assumed to be continuous\n",
    "qps0 = estimate_qps_onnx(data=df[['X1', 'X2', 'X3', 'X4']], S=100, delta=0.8, onnx=filename, seed = seed)\n",
    "\n",
    "# Pass the full dataset along with indices \n",
    "qps1 = estimate_qps_onnx(data=df[['X1', 'X2', 'X3', 'X4']], C = range(4), S=100, delta=0.8, onnx=filename, seed = seed)\n",
    "\n",
    "# Pass the continuous columns into the X_c variable\n",
    "qps2 = estimate_qps_onnx(X_c=df[['X1', 'X2', 'X3', 'X4']], S=100, delta=0.8, onnx=filename, seed = seed)\n",
    "\n",
    "assert np.array_equal(qps0, qps1)\n",
    "assert np.array_equal(qps1, qps2)"
   ]
  },
  {
   "cell_type": "markdown",
   "metadata": {},
   "source": [
    "**Important:** to allow for cross-framework compatibility, our qps estimation function only works with ONNX models that take single inputs or separate continuous/discrete inputs with specified node names, and outputs with specified node names. The convert_to_onnx function will output with those settings automatically, but please keep this in mind if you plan on using an externally generated ONNX model."
   ]
  },
  {
   "cell_type": "code",
   "execution_count": 24,
   "metadata": {},
   "outputs": [
    {
     "data": {
      "text/plain": [
       "[<matplotlib.lines.Line2D at 0x7f86e1431150>]"
      ]
     },
     "execution_count": 24,
     "metadata": {},
     "output_type": "execute_result"
    },
    {
     "data": {
      "image/png": "[encoded data removed]",
      "text/plain": [
       "<Figure size 432x288 with 1 Axes>"
      ]
     },
     "metadata": {
      "needs_background": "light"
     },
     "output_type": "display_data"
    }
   ],
   "source": [
    "import matplotlib.pyplot as plt\n",
    "\n",
    "plt.plot(qps0)"
   ]
  },
  {
   "cell_type": "markdown",
   "metadata": {},
   "source": [
    "The converted ONNX model sets expected input dtypes according to the dummy input, but you can also pass the continuous/discrete datatypes explicitly as a tuple to coerce the input data to a specific type."
   ]
  },
  {
   "cell_type": "code",
   "execution_count": 25,
   "metadata": {},
   "outputs": [
    {
     "data": {
      "text/plain": [
       "X1    float64\n",
       "X2    float64\n",
       "X3    float64\n",
       "X4    float64\n",
       "dtype: object"
      ]
     },
     "execution_count": 25,
     "metadata": {},
     "output_type": "execute_result"
    }
   ],
   "source": [
    "df[['X1', 'X2', 'X3', 'X4']].dtypes"
   ]
  },
  {
   "cell_type": "code",
   "execution_count": 26,
   "metadata": {},
   "outputs": [
    {
     "name": "stdout",
     "output_type": "stream",
     "text": [
      "`data` given but no indices passed. We will assume that all the variables in `data` are continuous.\n"
     ]
    },
    {
     "data": {
      "text/plain": [
       "array([0.0489248 , 0.04402891, 0.031439  , 0.04824618, 0.02989022])"
      ]
     },
     "execution_count": 26,
     "metadata": {},
     "output_type": "execute_result"
    }
   ],
   "source": [
    "qps = estimate_qps_onnx(data=df[['X1', 'X2', 'X3', 'X4']], S=100, delta=0.8, onnx=filename, types=(np.float64, np.float64))\n",
    "qps[:5]"
   ]
  },
  {
   "cell_type": "markdown",
   "metadata": {},
   "source": [
    "### 4. Treatment effect estimation"
   ]
  },
  {
   "cell_type": "markdown",
   "metadata": {},
   "source": [
    "We can now estimate LATE using our IV approach. Our primary estimation function is `estimate_treatment_effect`. Similar to QPS estimation, we can pass in our inputs in a variety of ways. The function returns a tuple containing an array of counterfactual values and the fitted estimation model. Our package makes use of the modules in the `linearmodels` package to estimate and output the fitted models. "
   ]
  },
  {
   "cell_type": "code",
   "execution_count": 27,
   "metadata": {},
   "outputs": [],
   "source": [
    "from mlisne import estimate_treatment_effect"
   ]
  },
  {
   "cell_type": "code",
   "execution_count": 29,
   "metadata": {},
   "outputs": [
    {
     "name": "stdout",
     "output_type": "stream",
     "text": [
      "Indices for ['Y', 'Z', 'D', 'QPS'] not explicitly passed. Assuming remaining columns in order ['Y', 'Z', 'D', 'QPS']...\n",
      "We will fit on 150 values out of 150 from the dataset for which the QPS estimation is nondegenerate.\n",
      "                          IV-2SLS Estimation Summary                          \n",
      "==============================================================================\n",
      "Dep. Variable:                      Y   R-squared:                      0.0844\n",
      "Estimator:                    IV-2SLS   Adj. R-squared:                 0.0719\n",
      "No. Observations:                 150   F-statistic:                    11.711\n",
      "Date:                Thu, Nov 05 2020   P-value (F-stat)                0.0029\n",
      "Time:                        14:43:51   Distribution:                  chi2(2)\n",
      "Cov. Estimator:                robust                                         \n",
      "                                                                              \n",
      "                             Parameter Estimates                              \n",
      "==============================================================================\n",
      "            Parameter  Std. Err.     T-stat    P-value    Lower CI    Upper CI\n",
      "------------------------------------------------------------------------------\n",
      "const          18.887     1.6195     11.662     0.0000      15.713      22.062\n",
      "qps            5.0095     11.089     0.4518     0.6514     -16.724      26.743\n",
      "D              2.7297     14.036     0.1945     0.8458     -24.781      30.240\n",
      "==============================================================================\n",
      "\n",
      "Endogenous: D\n",
      "Instruments: Z\n",
      "Robust Covariance (Heteroskedastic)\n",
      "Debiased: False\n",
      "Indices for ['Z', 'QPS'] not explicitly passed. Assuming remaining columns in order ['Z', 'QPS']...\n",
      "We will fit on 150 values out of 150 from the dataset for which the QPS estimation is nondegenerate.\n",
      "                          IV-2SLS Estimation Summary                          \n",
      "==============================================================================\n",
      "Dep. Variable:                      Y   R-squared:                      0.0844\n",
      "Estimator:                    IV-2SLS   Adj. R-squared:                 0.0719\n",
      "No. Observations:                 150   F-statistic:                    11.711\n",
      "Date:                Thu, Nov 05 2020   P-value (F-stat)                0.0029\n",
      "Time:                        14:43:51   Distribution:                  chi2(2)\n",
      "Cov. Estimator:                robust                                         \n",
      "                                                                              \n",
      "                             Parameter Estimates                              \n",
      "==============================================================================\n",
      "            Parameter  Std. Err.     T-stat    P-value    Lower CI    Upper CI\n",
      "------------------------------------------------------------------------------\n",
      "const          18.887     1.6195     11.662     0.0000      15.713      22.062\n",
      "qps            5.0095     11.089     0.4518     0.6514     -16.724      26.743\n",
      "D              2.7297     14.036     0.1945     0.8458     -24.781      30.240\n",
      "==============================================================================\n",
      "\n",
      "Endogenous: D\n",
      "Instruments: Z\n",
      "Robust Covariance (Heteroskedastic)\n",
      "Debiased: False\n",
      "Indices for ['Z', 'D'] not explicitly passed. Assuming remaining columns in order ['Z', 'D']...\n",
      "We will fit on 150 values out of 150 from the dataset for which the QPS estimation is nondegenerate.\n",
      "                          IV-2SLS Estimation Summary                          \n",
      "==============================================================================\n",
      "Dep. Variable:                      Y   R-squared:                      0.0844\n",
      "Estimator:                    IV-2SLS   Adj. R-squared:                 0.0719\n",
      "No. Observations:                 150   F-statistic:                    11.711\n",
      "Date:                Thu, Nov 05 2020   P-value (F-stat)                0.0029\n",
      "Time:                        14:43:51   Distribution:                  chi2(2)\n",
      "Cov. Estimator:                robust                                         \n",
      "                                                                              \n",
      "                             Parameter Estimates                              \n",
      "==============================================================================\n",
      "            Parameter  Std. Err.     T-stat    P-value    Lower CI    Upper CI\n",
      "------------------------------------------------------------------------------\n",
      "const          18.887     1.6195     11.662     0.0000      15.713      22.062\n",
      "qps            5.0095     11.089     0.4518     0.6514     -16.724      26.743\n",
      "D              2.7297     14.036     0.1945     0.8458     -24.781      30.240\n",
      "==============================================================================\n",
      "\n",
      "Endogenous: D\n",
      "Instruments: Z\n",
      "Robust Covariance (Heteroskedastic)\n",
      "Debiased: False\n",
      "We will fit on 150 values out of 150 from the dataset for which the QPS estimation is nondegenerate.\n",
      "                          IV-2SLS Estimation Summary                          \n",
      "==============================================================================\n",
      "Dep. Variable:                      Y   R-squared:                      0.0844\n",
      "Estimator:                    IV-2SLS   Adj. R-squared:                 0.0719\n",
      "No. Observations:                 150   F-statistic:                    11.711\n",
      "Date:                Thu, Nov 05 2020   P-value (F-stat)                0.0029\n",
      "Time:                        14:43:51   Distribution:                  chi2(2)\n",
      "Cov. Estimator:                robust                                         \n",
      "                                                                              \n",
      "                             Parameter Estimates                              \n",
      "==============================================================================\n",
      "            Parameter  Std. Err.     T-stat    P-value    Lower CI    Upper CI\n",
      "------------------------------------------------------------------------------\n",
      "const          18.887     1.6195     11.662     0.0000      15.713      22.062\n",
      "qps            5.0095     11.089     0.4518     0.6514     -16.724      26.743\n",
      "D              2.7297     14.036     0.1945     0.8458     -24.781      30.240\n",
      "==============================================================================\n",
      "\n",
      "Endogenous: D\n",
      "Instruments: Z\n",
      "Robust Covariance (Heteroskedastic)\n",
      "Debiased: False\n"
     ]
    }
   ],
   "source": [
    "# Again we demonstrate the different ways of passing inputs\n",
    "treatment_df = pd.DataFrame({\"Y\": df['Y'], 'Z': df['Z'], 'D': df['D'], 'QPS':qps})\n",
    "\n",
    "# Without any indices passed, the function will infer all the variable columns\n",
    "model0 = estimate_treatment_effect(data = treatment_df)\n",
    "\n",
    "# We can specify some of the indices\n",
    "model1 = estimate_treatment_effect(data = treatment_df, D_ind = 2, Y_ind = 0)\n",
    "\n",
    "# We can also pass a subset of the variables directly\n",
    "model2 = estimate_treatment_effect(data = treatment_df[['Z', 'D']], Y = treatment_df['Y'], qps = treatment_df['QPS'])\n",
    "\n",
    "# We can also pass all the variables directly\n",
    "model3 = estimate_treatment_effect(Y = treatment_df['Y'], Z = treatment_df['Z'], D = treatment_df['D'], qps = treatment_df['QPS'])\n",
    "\n",
    "assert np.allclose(model0.params.to_numpy().flatten(), model1.params.to_numpy().flatten())\n",
    "assert np.array_equal(model1.params.to_numpy().flatten(), model2.params.to_numpy().flatten())\n",
    "assert np.array_equal(model1.params.to_numpy().flatten(), model3.params.to_numpy().flatten())"
   ]
  },
  {
   "cell_type": "code",
   "execution_count": 30,
   "metadata": {},
   "outputs": [
    {
     "name": "stdout",
     "output_type": "stream",
     "text": [
      "Treatment effect estimate: 2.7297175429334857\n",
      "True LATE: 4.993233601447485\n"
     ]
    }
   ],
   "source": [
    "est_treatment = model0.params['D']\n",
    "print(\"Treatment effect estimate:\", est_treatment)\n",
    "print(\"True LATE:\", late)"
   ]
  },
  {
   "cell_type": "markdown",
   "metadata": {},
   "source": [
    "The fitted model also provides other estimation diagnostics"
   ]
  },
  {
   "cell_type": "code",
   "execution_count": 30,
   "metadata": {},
   "outputs": [
    {
     "name": "stdout",
     "output_type": "stream",
     "text": [
      "First stage coefficients: const    0.012799\n",
      "qps     -0.224345\n",
      "Z        0.968233\n",
      "Name: parameter, dtype: float64\n",
      "First stage p-values: const    0.002451\n",
      "qps      0.002052\n",
      "Z        0.000000\n",
      "Name: pvalue, dtype: float64\n",
      "First stage r2: 0.5112877173345126\n"
     ]
    }
   ],
   "source": [
    "# First stage details\n",
    "fs = model0.first_stage.individual['D']\n",
    "\n",
    "print(\"First stage coefficients:\", fs.params)\n",
    "print(\"First stage p-values:\", fs.pvalues)\n",
    "print(\"First stage r2:\", fs.rsquared)"
   ]
  },
  {
   "cell_type": "code",
   "execution_count": 31,
   "metadata": {},
   "outputs": [
    {
     "name": "stdout",
     "output_type": "stream",
     "text": [
      "                            OLS Estimation Summary                            \n",
      "==============================================================================\n",
      "Dep. Variable:                      D   R-squared:                      0.5113\n",
      "Estimator:                        OLS   Adj. R-squared:                 0.5046\n",
      "No. Observations:                 150   F-statistic:                    604.82\n",
      "Date:                Tue, Nov 03 2020   P-value (F-stat)                0.0000\n",
      "Time:                        22:13:42   Distribution:                  chi2(2)\n",
      "Cov. Estimator:                robust                                         \n",
      "                                                                              \n",
      "                             Parameter Estimates                              \n",
      "==============================================================================\n",
      "            Parameter  Std. Err.     T-stat    P-value    Lower CI    Upper CI\n",
      "------------------------------------------------------------------------------\n",
      "const          0.0128     0.0042     3.0294     0.0025      0.0045      0.0211\n",
      "qps           -0.2243     0.0728    -3.0826     0.0021     -0.3670     -0.0817\n",
      "Z              0.9682     0.0543     17.836     0.0000      0.8618      1.0746\n",
      "==============================================================================\n"
     ]
    }
   ],
   "source": [
    "print(fs)"
   ]
  },
  {
   "cell_type": "markdown",
   "metadata": {},
   "source": [
    "The above estimate is not particularly precise given the small sample size. Let's re-estimate with consecutively larger sample sizes. "
   ]
  },
  {
   "cell_type": "code",
   "execution_count": 33,
   "metadata": {},
   "outputs": [
    {
     "name": "stdout",
     "output_type": "stream",
     "text": [
      "Constant (x1): 21.123797418397206\n",
      "ATE (x1): 5.026244496930961\n",
      "ATET (x1): 5.061714331911143\n",
      "LATE (x1): 4.993233601447485\n",
      "`data` given but no indices passed. We will assume that all the variables in `data` are continuous.\n",
      "We will fit on 150 values out of 150 from the dataset for which the QPS estimation is nondegenerate.\n",
      "Estimated LATE: 2.9418143332832187\n",
      "Estimated LATE SE: 14.14343407582354\n",
      "----------------------------------------------------------------------------------------------------\n",
      "Constant (x10): 21.123797418397206\n",
      "ATE (x10): 5.026244496930961\n",
      "ATET (x10): 5.061714331911143\n",
      "LATE (x10): 4.993233601447485\n",
      "`data` given but no indices passed. We will assume that all the variables in `data` are continuous.\n"
     ]
    },
    {
     "name": "stderr",
     "output_type": "stream",
     "text": [
      "/Users/rl874/opt/anaconda3/envs/mlisne/lib/python3.7/site-packages/linearmodels/iv/data.py:25: FutureWarning: is_categorical is deprecated and will be removed in a future version.  Use is_categorical_dtype instead\n",
      "  if is_categorical(s):\n"
     ]
    },
    {
     "name": "stdout",
     "output_type": "stream",
     "text": [
      "We will fit on 1500 values out of 1500 from the dataset for which the QPS estimation is nondegenerate.\n",
      "Estimated LATE: 1.6558720352149976\n",
      "Estimated LATE SE: 4.7277206286548825\n",
      "----------------------------------------------------------------------------------------------------\n",
      "Constant (x100): 21.123797418397206\n",
      "ATE (x100): 5.026244496930961\n",
      "ATET (x100): 5.061714331911142\n",
      "LATE (x100): 4.993233601447485\n",
      "`data` given but no indices passed. We will assume that all the variables in `data` are continuous.\n"
     ]
    },
    {
     "name": "stderr",
     "output_type": "stream",
     "text": [
      "/Users/rl874/opt/anaconda3/envs/mlisne/lib/python3.7/site-packages/linearmodels/iv/data.py:25: FutureWarning: is_categorical is deprecated and will be removed in a future version.  Use is_categorical_dtype instead\n",
      "  if is_categorical(s):\n"
     ]
    },
    {
     "name": "stdout",
     "output_type": "stream",
     "text": [
      "We will fit on 15000 values out of 15000 from the dataset for which the QPS estimation is nondegenerate.\n",
      "Estimated LATE: 2.515119381079785\n",
      "Estimated LATE SE: 1.4414150165144566\n",
      "----------------------------------------------------------------------------------------------------\n"
     ]
    },
    {
     "name": "stderr",
     "output_type": "stream",
     "text": [
      "/Users/rl874/opt/anaconda3/envs/mlisne/lib/python3.7/site-packages/linearmodels/iv/data.py:25: FutureWarning: is_categorical is deprecated and will be removed in a future version.  Use is_categorical_dtype instead\n",
      "  if is_categorical(s):\n"
     ]
    }
   ],
   "source": [
    "print(f\"Constant: {constant}\")\n",
    "print(f\"ATE: {ate}\")\n",
    "print(f\"ATET: {atet}\")\n",
    "print(f\"LATE: {late}\")\n",
    "    \n",
    "for mult in [1, 10, 100]:\n",
    "    dup_df = pd.concat([df]*mult)    \n",
    "    qps = estimate_qps_onnx(data=dup_df[['X1', 'X2', 'X3', 'X4']], S=100, delta=0.8, onnx=filename)\n",
    "    model = estimate_treatment_effect(Y = dup_df['Y'], Z = dup_df['Z'], D = dup_df['D'], qps = qps, verbose = False)\n",
    "    print(f\"Estimated LATE: {model.params['D']}\")\n",
    "    print(f\"Estimated LATE SE: {model.std_errors['D']}\")\n",
    "    print(\"-\"*100)"
   ]
  },
  {
   "cell_type": "code",
   "execution_count": null,
   "metadata": {},
   "outputs": [],
   "source": []
  }
 ],
 "metadata": {
  "kernelspec": {
   "display_name": "Python 3",
   "language": "python",
   "name": "python3"
  },
  "language_info": {
   "codemirror_mode": {
    "name": "ipython",
    "version": 3
   },
   "file_extension": ".py",
   "mimetype": "text/x-python",
   "name": "python",
   "nbconvert_exporter": "python",
   "pygments_lexer": "ipython3",
   "version": "3.7.9"
  }
 },
 "nbformat": 4,
 "nbformat_minor": 4
}
