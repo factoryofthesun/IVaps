{
 "cells": [
  {
   "cell_type": "markdown",
   "metadata": {},
   "source": [
    "# Sklearn Example: LogisticRegression and Iris"
   ]
  },
  {
   "cell_type": "markdown",
   "metadata": {},
   "source": [
    "In this example we will train as LogisticRegression model on the iris dataset, convert it to ONNX format, simulate historical treatment data, then estimate the treatment effects using our IV estimation method."
   ]
  },
  {
   "cell_type": "markdown",
   "metadata": {},
   "source": [
    "### 1. Train and Convert"
   ]
  },
  {
   "cell_type": "code",
   "execution_count": 58,
   "metadata": {},
   "outputs": [],
   "source": [
    "import sys\n",
    "import os\n",
    "import pandas as pd\n",
    "import numpy as np\n",
    "from pathlib import Path\n",
    "from sklearn.datasets import load_iris"
   ]
  },
  {
   "cell_type": "code",
   "execution_count": 59,
   "metadata": {},
   "outputs": [],
   "source": [
    "iris = load_iris()\n",
    "X, y = iris.data, iris.target"
   ]
  },
  {
   "cell_type": "markdown",
   "metadata": {},
   "source": [
    "In this example, X consists of 4 continuous variables"
   ]
  },
  {
   "cell_type": "code",
   "execution_count": 60,
   "metadata": {},
   "outputs": [
    {
     "name": "stdout",
     "output_type": "stream",
     "text": [
      "Dtype: float64 \n",
      "Shape: (150, 4)\n"
     ]
    }
   ],
   "source": [
    "print(\"Dtype:\", X.dtype, \"\\nShape:\", X.shape)"
   ]
  },
  {
   "cell_type": "markdown",
   "metadata": {},
   "source": [
    "Our estimation method relies on binary treatment assignment, so here let's assume that iris classifications of 1 or 2 indicate treatment recommendation."
   ]
  },
  {
   "cell_type": "code",
   "execution_count": 61,
   "metadata": {},
   "outputs": [],
   "source": [
    "y[y>0] = 1"
   ]
  },
  {
   "cell_type": "code",
   "execution_count": 62,
   "metadata": {},
   "outputs": [],
   "source": [
    "from sklearn.model_selection import train_test_split\n",
    "from sklearn.linear_model import LogisticRegression \n",
    "\n",
    "X_train, X_test, y_train, y_test = train_test_split(X, y)"
   ]
  },
  {
   "cell_type": "code",
   "execution_count": 63,
   "metadata": {},
   "outputs": [
    {
     "data": {
      "text/plain": [
       "LogisticRegression()"
      ]
     },
     "execution_count": 63,
     "metadata": {},
     "output_type": "execute_result"
    }
   ],
   "source": [
    "clr = LogisticRegression()\n",
    "clr.fit(X_train, y_train)"
   ]
  },
  {
   "cell_type": "code",
   "execution_count": 64,
   "metadata": {},
   "outputs": [
    {
     "data": {
      "text/plain": [
       "array([[9.07293933e-03, 9.90927061e-01],\n",
       "       [8.90170164e-04, 9.99109830e-01],\n",
       "       [7.70185814e-04, 9.99229814e-01],\n",
       "       [9.82250197e-01, 1.77498030e-02],\n",
       "       [9.57786034e-01, 4.22139656e-02]])"
      ]
     },
     "execution_count": 64,
     "metadata": {},
     "output_type": "execute_result"
    }
   ],
   "source": [
    "clr.predict_proba(X_test)[:5]"
   ]
  },
  {
   "cell_type": "code",
   "execution_count": 65,
   "metadata": {},
   "outputs": [],
   "source": [
    "import pickle \n",
    "\n",
    "# Save model\n",
    "with open(f\"models/iris_logreg.pickle\", \"wb\") as f:\n",
    "    pickle.dump(clr, f)"
   ]
  },
  {
   "cell_type": "markdown",
   "metadata": {},
   "source": [
    "Now let's load back in the model and convert to ONNX. This step is necessary because our QPS estimation procedure only takes ONNX models for inference."
   ]
  },
  {
   "cell_type": "code",
   "execution_count": 66,
   "metadata": {},
   "outputs": [
    {
     "data": {
      "text/plain": [
       "{'C': 1.0,\n",
       " 'class_weight': None,\n",
       " 'dual': False,\n",
       " 'fit_intercept': True,\n",
       " 'intercept_scaling': 1,\n",
       " 'l1_ratio': None,\n",
       " 'max_iter': 100,\n",
       " 'multi_class': 'auto',\n",
       " 'n_jobs': None,\n",
       " 'penalty': 'l2',\n",
       " 'random_state': None,\n",
       " 'solver': 'lbfgs',\n",
       " 'tol': 0.0001,\n",
       " 'verbose': 0,\n",
       " 'warm_start': False}"
      ]
     },
     "execution_count": 66,
     "metadata": {},
     "output_type": "execute_result"
    }
   ],
   "source": [
    "model = pickle.load(open(f\"models/iris_logreg.pickle\", 'rb'))\n",
    "model.get_params()"
   ]
  },
  {
   "cell_type": "markdown",
   "metadata": {},
   "source": [
    "The mlisne package provides an ONNX conversion wrapper function that requires a dummy input and framework string to process datatypes and run the correct conversion function."
   ]
  },
  {
   "cell_type": "code",
   "execution_count": 67,
   "metadata": {},
   "outputs": [
    {
     "data": {
      "text/plain": [
       "True"
      ]
     },
     "execution_count": 67,
     "metadata": {},
     "output_type": "execute_result"
    }
   ],
   "source": [
    "from mlisne import convert_to_onnx\n",
    "\n",
    "X_dummy = X[0,:]\n",
    "filename = \"models/iris_logreg.onnx\"\n",
    "\n",
    "convert_to_onnx(model = model, dummy_input = X_dummy, path = filename, framework = \"sklearn\")"
   ]
  },
  {
   "cell_type": "markdown",
   "metadata": {},
   "source": [
    "The wrapper function will also pass on any keyword arguments to the downstream conversion function"
   ]
  },
  {
   "cell_type": "code",
   "execution_count": 68,
   "metadata": {},
   "outputs": [
    {
     "data": {
      "text/plain": [
       "True"
      ]
     },
     "execution_count": 68,
     "metadata": {},
     "output_type": "execute_result"
    }
   ],
   "source": [
    "convert_to_onnx(model=model, dummy_input=X_dummy, path=filename, framework=\"sklearn\", target_opset=12, \n",
    "                doc_string=\"Sklearn LogisticRegression model trained on iris dataset\")"
   ]
  },
  {
   "cell_type": "markdown",
   "metadata": {},
   "source": [
    "### 2. Simulate historical treatment data"
   ]
  },
  {
   "cell_type": "markdown",
   "metadata": {},
   "source": [
    "Let's simulate treatment and non-treatment outcomes for each observation i with the following structural equations:\n",
    "\\begin{align}\n",
    "Y_{0i} &= \\mathcal{N}(2,2)x_{1i} + \\mathcal{N}(3,1)x_{2i} + \\mathcal{N}(0,3) \\\\\n",
    "Y_{1i} &= Y_{0i} + \\mathcal{N}(5,1) + \\mathcal{N}(0,1)\n",
    "\\end{align}\n",
    "\n",
    "Where $x_{1}$ and $x_{2}$ refer to the first and second variables of input X. "
   ]
  },
  {
   "cell_type": "code",
   "execution_count": 69,
   "metadata": {},
   "outputs": [],
   "source": [
    "# Generate coefficients for observations\n",
    "b1 = np.random.normal(2,2,len(X))\n",
    "b2 = np.random.normal(3,1,len(X))\n",
    "e0 = np.random.normal(0,3,len(X))\n",
    "treatment_effect = np.random.normal(5,1, len(X))\n",
    "e1 = np.random.normal(0,1,len(X))"
   ]
  },
  {
   "cell_type": "code",
   "execution_count": 70,
   "metadata": {},
   "outputs": [],
   "source": [
    "Y0 = b1 * X[:,0] + b2 * X[:,1] + e0\n",
    "Y1 = Y0 + treatment_effect + e1"
   ]
  },
  {
   "cell_type": "markdown",
   "metadata": {},
   "source": [
    "Generate treatment recommendation probabilities using our trained model. Let's assume that the treatment is assigned when the model recommends assignment 75% of the time (no-defiers assumption)."
   ]
  },
  {
   "cell_type": "code",
   "execution_count": 71,
   "metadata": {},
   "outputs": [
    {
     "data": {
      "text/plain": [
       "array([0.02035654, 0.02828087, 0.0177498 , 0.02821133, 0.01792077])"
      ]
     },
     "execution_count": 71,
     "metadata": {},
     "output_type": "execute_result"
    }
   ],
   "source": [
    "# Create treatment recommendation probabilities\n",
    "Z_probs = clr.predict_proba(X)[:,1]\n",
    "Z_probs[:5]"
   ]
  },
  {
   "cell_type": "code",
   "execution_count": 72,
   "metadata": {},
   "outputs": [
    {
     "data": {
      "text/plain": [
       "array([0, 0, 0, 0, 0])"
      ]
     },
     "execution_count": 72,
     "metadata": {},
     "output_type": "execute_result"
    }
   ],
   "source": [
    "# Draw treatment recommendations\n",
    "recommend_prob = np.random.uniform(size=len(X))\n",
    "Z = (recommend_prob <= Z_probs).astype(int)\n",
    "Z[:5]"
   ]
  },
  {
   "cell_type": "code",
   "execution_count": 73,
   "metadata": {},
   "outputs": [],
   "source": [
    "# Realized assignment follows recommended assignment 75% of the time\n",
    "treatment_prob = np.random.uniform(size=len(X))\n",
    "D = []\n",
    "for i in range(len(treatment_prob)):\n",
    "    if Z[i] == 1:\n",
    "        if treatment_prob[i] >= 0.75:\n",
    "            D.append(0)\n",
    "        else:\n",
    "            D.append(1)\n",
    "    else:\n",
    "        D.append(Z[i])"
   ]
  },
  {
   "cell_type": "code",
   "execution_count": 74,
   "metadata": {},
   "outputs": [
    {
     "data": {
      "text/plain": [
       "(150, 4)"
      ]
     },
     "execution_count": 74,
     "metadata": {},
     "output_type": "execute_result"
    }
   ],
   "source": [
    "sim_data = np.stack((Y0, Y1, Z, D), axis=1)\n",
    "sim_data.shape"
   ]
  },
  {
   "cell_type": "code",
   "execution_count": 75,
   "metadata": {},
   "outputs": [
    {
     "data": {
      "text/plain": [
       "(150, 8)"
      ]
     },
     "execution_count": 75,
     "metadata": {},
     "output_type": "execute_result"
    }
   ],
   "source": [
    "full_data = np.concatenate((sim_data, X), axis=1)\n",
    "full_data.shape"
   ]
  },
  {
   "cell_type": "code",
   "execution_count": 76,
   "metadata": {},
   "outputs": [],
   "source": [
    "# Save to csv\n",
    "cols = ['Y0', 'Y1', 'Z', 'D', 'X1', 'X2', 'X3', 'X4']\n",
    "df = pd.DataFrame(data = full_data, columns=cols)\n",
    "df['Y'] = df['Y1']\n",
    "df.loc[df['D']==0, 'Y'] = df.loc[df['D']==0, 'Y0']\n",
    "df.to_csv(\"data/iris_data.csv\", index=False)"
   ]
  },
  {
   "cell_type": "code",
   "execution_count": 77,
   "metadata": {},
   "outputs": [
    {
     "name": "stdout",
     "output_type": "stream",
     "text": [
      "Constant: 20.92414743626981\n",
      "ATE: 4.913504170929344\n",
      "ATET: 5.0566593052590845\n",
      "LATE: 4.982711945153069\n"
     ]
    }
   ],
   "source": [
    "# Treatment effects \n",
    "constant = df.Y0.mean()\n",
    "ate = (df.Y1 - df.Y0).mean()\n",
    "atet = (df.loc[df['D'] == 1, 'Y1'] - df.loc[df['D'] == 1, 'Y0']).mean()\n",
    "late = (df.loc[(df['D'] == df['Z']), 'Y1'] - df.loc[(df['D'] == df['Z']), 'Y0']).mean()\n",
    "print(f\"Constant: {constant}\")\n",
    "print(f\"ATE: {ate}\")\n",
    "print(f\"ATET: {atet}\")\n",
    "print(f\"LATE: {late}\")"
   ]
  },
  {
   "cell_type": "markdown",
   "metadata": {},
   "source": [
    "### 3. QPS Estimation"
   ]
  },
  {
   "cell_type": "markdown",
   "metadata": {},
   "source": [
    "We can pass the simulated historical data and path to the ONNX model directly into our QPS estimation function."
   ]
  },
  {
   "cell_type": "code",
   "execution_count": 78,
   "metadata": {},
   "outputs": [],
   "source": [
    "from mlisne import estimate_qps_onnx"
   ]
  },
  {
   "cell_type": "markdown",
   "metadata": {},
   "source": [
    "The data can be passed in a variety of ways. You can pass the entire dataset with optional variable indices delineating the continuous and discrete variables, the input variables individually, or some combination of the two. If incomplete information is passed, then the remaining data will be inferred **greedily**. That is, the remaining data will be assumed to be of whatever type that is not explicitly delineated. If no indices or explicit variables are given, then all of the data will be assumed to be continuous.\n",
    "\n",
    "For this example, our input data is all continuous."
   ]
  },
  {
   "cell_type": "code",
   "execution_count": 79,
   "metadata": {},
   "outputs": [
    {
     "data": {
      "text/html": [
       "<div>\n",
       "<style scoped>\n",
       "    .dataframe tbody tr th:only-of-type {\n",
       "        vertical-align: middle;\n",
       "    }\n",
       "\n",
       "    .dataframe tbody tr th {\n",
       "        vertical-align: top;\n",
       "    }\n",
       "\n",
       "    .dataframe thead th {\n",
       "        text-align: right;\n",
       "    }\n",
       "</style>\n",
       "<table border=\"1\" class=\"dataframe\">\n",
       "  <thead>\n",
       "    <tr style=\"text-align: right;\">\n",
       "      <th></th>\n",
       "      <th>Y0</th>\n",
       "      <th>Y1</th>\n",
       "      <th>Z</th>\n",
       "      <th>D</th>\n",
       "      <th>X1</th>\n",
       "      <th>X2</th>\n",
       "      <th>X3</th>\n",
       "      <th>X4</th>\n",
       "      <th>Y</th>\n",
       "    </tr>\n",
       "  </thead>\n",
       "  <tbody>\n",
       "    <tr>\n",
       "      <th>0</th>\n",
       "      <td>11.377491</td>\n",
       "      <td>15.210692</td>\n",
       "      <td>0.0</td>\n",
       "      <td>0.0</td>\n",
       "      <td>5.1</td>\n",
       "      <td>3.5</td>\n",
       "      <td>1.4</td>\n",
       "      <td>0.2</td>\n",
       "      <td>11.377491</td>\n",
       "    </tr>\n",
       "    <tr>\n",
       "      <th>1</th>\n",
       "      <td>25.096364</td>\n",
       "      <td>30.180974</td>\n",
       "      <td>0.0</td>\n",
       "      <td>0.0</td>\n",
       "      <td>4.9</td>\n",
       "      <td>3.0</td>\n",
       "      <td>1.4</td>\n",
       "      <td>0.2</td>\n",
       "      <td>25.096364</td>\n",
       "    </tr>\n",
       "    <tr>\n",
       "      <th>2</th>\n",
       "      <td>13.755396</td>\n",
       "      <td>20.180540</td>\n",
       "      <td>0.0</td>\n",
       "      <td>0.0</td>\n",
       "      <td>4.7</td>\n",
       "      <td>3.2</td>\n",
       "      <td>1.3</td>\n",
       "      <td>0.2</td>\n",
       "      <td>13.755396</td>\n",
       "    </tr>\n",
       "    <tr>\n",
       "      <th>3</th>\n",
       "      <td>-2.640681</td>\n",
       "      <td>2.458502</td>\n",
       "      <td>0.0</td>\n",
       "      <td>0.0</td>\n",
       "      <td>4.6</td>\n",
       "      <td>3.1</td>\n",
       "      <td>1.5</td>\n",
       "      <td>0.2</td>\n",
       "      <td>-2.640681</td>\n",
       "    </tr>\n",
       "    <tr>\n",
       "      <th>4</th>\n",
       "      <td>30.830661</td>\n",
       "      <td>34.972890</td>\n",
       "      <td>0.0</td>\n",
       "      <td>0.0</td>\n",
       "      <td>5.0</td>\n",
       "      <td>3.6</td>\n",
       "      <td>1.4</td>\n",
       "      <td>0.2</td>\n",
       "      <td>30.830661</td>\n",
       "    </tr>\n",
       "  </tbody>\n",
       "</table>\n",
       "</div>"
      ],
      "text/plain": [
       "          Y0         Y1    Z    D   X1   X2   X3   X4          Y\n",
       "0  11.377491  15.210692  0.0  0.0  5.1  3.5  1.4  0.2  11.377491\n",
       "1  25.096364  30.180974  0.0  0.0  4.9  3.0  1.4  0.2  25.096364\n",
       "2  13.755396  20.180540  0.0  0.0  4.7  3.2  1.3  0.2  13.755396\n",
       "3  -2.640681   2.458502  0.0  0.0  4.6  3.1  1.5  0.2  -2.640681\n",
       "4  30.830661  34.972890  0.0  0.0  5.0  3.6  1.4  0.2  30.830661"
      ]
     },
     "execution_count": 79,
     "metadata": {},
     "output_type": "execute_result"
    }
   ],
   "source": [
    "df.head()"
   ]
  },
  {
   "cell_type": "markdown",
   "metadata": {},
   "source": [
    "In the below cell, we set a random seed and demonstrate different ways of passing data."
   ]
  },
  {
   "cell_type": "code",
   "execution_count": 80,
   "metadata": {},
   "outputs": [
    {
     "name": "stderr",
     "output_type": "stream",
     "text": [
      "d:\\tobin\\mlisne\\mlisne\\qps.py:176: UserWarning: `data` given but no indices passed. We will assume that all the variables in `data` are continuous.\n",
      "  print(\"`data` given but no indices passed. We will assume that all the variables in `data` are continuous.\")\n"
     ]
    }
   ],
   "source": [
    "seed = np.random.choice(range(100))\n",
    "\n",
    "# Pass just the input columns -- all variables are assumed to be continuous\n",
    "qps0 = estimate_qps_onnx(data=df[['X1', 'X2', 'X3', 'X4']], S=100, delta=0.8, ML_onnx=filename, seed = seed)\n",
    "\n",
    "# Pass the full dataset along with indices \n",
    "qps1 = estimate_qps_onnx(data=df[['X1', 'X2', 'X3', 'X4']], C = range(4), S=100, delta=0.8, ML_onnx=filename, seed = seed)\n",
    "\n",
    "# Pass the continuous columns into the X_c variable\n",
    "qps2 = estimate_qps_onnx(X_c=df[['X1', 'X2', 'X3', 'X4']], S=100, delta=0.8, ML_onnx=filename, seed = seed)\n",
    "\n",
    "assert np.array_equal(qps0, qps1)\n",
    "assert np.array_equal(qps1, qps2)"
   ]
  },
  {
   "cell_type": "markdown",
   "metadata": {},
   "source": [
    "**Important:** to allow for cross-framework compatibility, our qps estimation function only works with ONNX models that take single inputs or separate continuous/discrete inputs with specified node names, and outputs with specified node names. The convert_to_onnx function will output with those settings automatically, but please keep this in mind if you plan on using an externally generated ONNX model."
   ]
  },
  {
   "cell_type": "code",
   "execution_count": 81,
   "metadata": {},
   "outputs": [
    {
     "data": {
      "text/plain": [
       "[<matplotlib.lines.Line2D at 0x2008fdb3f88>]"
      ]
     },
     "execution_count": 81,
     "metadata": {},
     "output_type": "execute_result"
    },
    {
     "data": {
      "image/png": "[encoded data removed]",
      "text/plain": [
       "<Figure size 432x288 with 1 Axes>"
      ]
     },
     "metadata": {
      "needs_background": "light"
     },
     "output_type": "display_data"
    }
   ],
   "source": [
    "import matplotlib.pyplot as plt\n",
    "\n",
    "plt.plot(qps0)"
   ]
  },
  {
   "cell_type": "markdown",
   "metadata": {},
   "source": [
    "The converted ONNX model sets expected input dtypes according to the dummy input, but you can also pass the continuous/discrete datatypes explicitly as a tuple to coerce the input data to a specific type."
   ]
  },
  {
   "cell_type": "code",
   "execution_count": 82,
   "metadata": {},
   "outputs": [
    {
     "data": {
      "text/plain": [
       "X1    float64\n",
       "X2    float64\n",
       "X3    float64\n",
       "X4    float64\n",
       "dtype: object"
      ]
     },
     "execution_count": 82,
     "metadata": {},
     "output_type": "execute_result"
    }
   ],
   "source": [
    "df[['X1', 'X2', 'X3', 'X4']].dtypes"
   ]
  },
  {
   "cell_type": "code",
   "execution_count": 83,
   "metadata": {},
   "outputs": [
    {
     "name": "stderr",
     "output_type": "stream",
     "text": [
      "d:\\tobin\\mlisne\\mlisne\\qps.py:176: UserWarning: `data` given but no indices passed. We will assume that all the variables in `data` are continuous.\n",
      "  print(\"`data` given but no indices passed. We will assume that all the variables in `data` are continuous.\")\n"
     ]
    },
    {
     "data": {
      "text/plain": [
       "array([0.02808571, 0.00923914, 0.06486332, 0.00623858, 0.02659267])"
      ]
     },
     "execution_count": 83,
     "metadata": {},
     "output_type": "execute_result"
    }
   ],
   "source": [
    "qps = estimate_qps_onnx(data=df[['X1', 'X2', 'X3', 'X4']], S=100, delta=0.8, ML_onnx=filename, types=(np.float64, np.float64))\n",
    "qps[:5]"
   ]
  },
  {
   "cell_type": "markdown",
   "metadata": {},
   "source": [
    "### 4. Treatment effect estimation"
   ]
  },
  {
   "cell_type": "markdown",
   "metadata": {},
   "source": [
    "We can now estimate LATE using our IV approach. Our primary estimation function is `estimate_treatment_effect`. Similar to QPS estimation, we can pass in our inputs in a variety of ways. The function returns a tuple containing an array of counterfactual values and the fitted estimation model. Our package makes use of the modules in the `linearmodels` package to estimate and output the fitted models. "
   ]
  },
  {
   "cell_type": "code",
   "execution_count": 84,
   "metadata": {},
   "outputs": [],
   "source": [
    "from mlisne import estimate_treatment_effect"
   ]
  },
  {
   "cell_type": "code",
   "execution_count": 85,
   "metadata": {},
   "outputs": [
    {
     "name": "stdout",
     "output_type": "stream",
     "text": [
      "Indices for ['Y', 'Z', 'D', 'QPS'] not explicitly passed. Assuming remaining columns in order ['Y', 'Z', 'D', 'QPS']...\n",
      "We will fit on 150 values out of 150 from the dataset for which the QPS estimation is nondegenerate.\n",
      "                          IV-2SLS Estimation Summary                          \n",
      "==============================================================================\n",
      "Dep. Variable:                      Y   R-squared:                     -0.0016\n",
      "Estimator:                    IV-2SLS   Adj. R-squared:                -0.0152\n",
      "No. Observations:                 150   F-statistic:                    5.5718\n",
      "Date:                Fri, Sep 18 2020   P-value (F-stat)                0.0617\n",
      "Time:                        13:48:58   Distribution:                  chi2(2)\n",
      "Cov. Estimator:                robust                                         \n",
      "                                                                              \n",
      "                             Parameter Estimates                              \n",
      "==============================================================================\n",
      "            Parameter  Std. Err.     T-stat    P-value    Lower CI    Upper CI\n",
      "------------------------------------------------------------------------------\n",
      "const          20.206     1.6685     12.110     0.0000      16.935      23.476\n",
      "qps            0.7068     5.5799     0.1267     0.8992     -10.229      11.643\n",
      "D              5.5248     6.7299     0.8209     0.4117     -7.6656      18.715\n",
      "==============================================================================\n",
      "\n",
      "Endogenous: D\n",
      "Instruments: Z\n",
      "Robust Covariance (Heteroskedastic)\n",
      "Debiased: False\n",
      "Indices for ['Z', 'QPS'] not explicitly passed. Assuming remaining columns in order ['Z', 'QPS']...\n",
      "We will fit on 150 values out of 150 from the dataset for which the QPS estimation is nondegenerate.\n",
      "                          IV-2SLS Estimation Summary                          \n",
      "==============================================================================\n",
      "Dep. Variable:                      Y   R-squared:                     -0.0016\n",
      "Estimator:                    IV-2SLS   Adj. R-squared:                -0.0152\n",
      "No. Observations:                 150   F-statistic:                    5.5718\n",
      "Date:                Fri, Sep 18 2020   P-value (F-stat)                0.0617\n",
      "Time:                        13:48:58   Distribution:                  chi2(2)\n",
      "Cov. Estimator:                robust                                         \n",
      "                                                                              \n",
      "                             Parameter Estimates                              \n",
      "==============================================================================\n",
      "            Parameter  Std. Err.     T-stat    P-value    Lower CI    Upper CI\n",
      "------------------------------------------------------------------------------\n",
      "const          20.206     1.6685     12.110     0.0000      16.935      23.476\n",
      "qps            0.7068     5.5799     0.1267     0.8992     -10.229      11.643\n",
      "D              5.5248     6.7299     0.8209     0.4117     -7.6656      18.715\n",
      "==============================================================================\n",
      "\n",
      "Endogenous: D\n",
      "Instruments: Z\n",
      "Robust Covariance (Heteroskedastic)\n",
      "Debiased: False\n",
      "Indices for ['Z', 'D'] not explicitly passed. Assuming remaining columns in order ['Z', 'D']...\n",
      "We will fit on 150 values out of 150 from the dataset for which the QPS estimation is nondegenerate.\n",
      "                          IV-2SLS Estimation Summary                          \n",
      "==============================================================================\n",
      "Dep. Variable:                      Y   R-squared:                     -0.0016\n",
      "Estimator:                    IV-2SLS   Adj. R-squared:                -0.0152\n",
      "No. Observations:                 150   F-statistic:                    5.5718\n",
      "Date:                Fri, Sep 18 2020   P-value (F-stat)                0.0617\n",
      "Time:                        13:48:58   Distribution:                  chi2(2)\n",
      "Cov. Estimator:                robust                                         \n",
      "                                                                              \n",
      "                             Parameter Estimates                              \n",
      "==============================================================================\n",
      "            Parameter  Std. Err.     T-stat    P-value    Lower CI    Upper CI\n",
      "------------------------------------------------------------------------------\n",
      "const          20.206     1.6685     12.110     0.0000      16.935      23.476\n",
      "qps            0.7068     5.5799     0.1267     0.8992     -10.229      11.643\n",
      "D              5.5248     6.7299     0.8209     0.4117     -7.6656      18.715\n",
      "==============================================================================\n",
      "\n",
      "Endogenous: D\n",
      "Instruments: Z\n",
      "Robust Covariance (Heteroskedastic)\n",
      "Debiased: False\n",
      "We will fit on 150 values out of 150 from the dataset for which the QPS estimation is nondegenerate.\n",
      "                          IV-2SLS Estimation Summary                          \n",
      "==============================================================================\n",
      "Dep. Variable:                      Y   R-squared:                     -0.0016\n",
      "Estimator:                    IV-2SLS   Adj. R-squared:                -0.0152\n",
      "No. Observations:                 150   F-statistic:                    5.5718\n",
      "Date:                Fri, Sep 18 2020   P-value (F-stat)                0.0617\n",
      "Time:                        13:48:58   Distribution:                  chi2(2)\n",
      "Cov. Estimator:                robust                                         \n",
      "                                                                              \n",
      "                             Parameter Estimates                              \n",
      "==============================================================================\n",
      "            Parameter  Std. Err.     T-stat    P-value    Lower CI    Upper CI\n",
      "------------------------------------------------------------------------------\n",
      "const          20.206     1.6685     12.110     0.0000      16.935      23.476\n",
      "qps            0.7068     5.5799     0.1267     0.8992     -10.229      11.643\n",
      "D              5.5248     6.7299     0.8209     0.4117     -7.6656      18.715\n",
      "==============================================================================\n",
      "\n",
      "Endogenous: D\n",
      "Instruments: Z\n",
      "Robust Covariance (Heteroskedastic)\n",
      "Debiased: False\n"
     ]
    }
   ],
   "source": [
    "# Again we demonstrate the different ways of passing inputs\n",
    "treatment_df = pd.DataFrame({\"Y\": df['Y'], 'Z': df['Z'], 'D': df['D'], 'QPS':qps})\n",
    "\n",
    "# Without any indices passed, the function will infer all the variable columns\n",
    "model0 = estimate_treatment_effect(data = treatment_df)\n",
    "\n",
    "# We can specify some of the indices\n",
    "model1 = estimate_treatment_effect(data = treatment_df, D_ind = 2, Y_ind = 0)\n",
    "\n",
    "# We can also pass a subset of the variables directly\n",
    "model2 = estimate_treatment_effect(data = treatment_df[['Z', 'D']], Y = treatment_df['Y'], qps = treatment_df['QPS'])\n",
    "\n",
    "# We can also pass all the variables directly\n",
    "model3 = estimate_treatment_effect(Y = treatment_df['Y'], Z = treatment_df['Z'], D = treatment_df['D'], qps = treatment_df['QPS'])\n",
    "\n",
    "assert np.allclose(model0.params.to_numpy().flatten(), model1.params.to_numpy().flatten())\n",
    "assert np.array_equal(model1.params.to_numpy().flatten(), model2.params.to_numpy().flatten())"
   ]
  },
  {
   "cell_type": "code",
   "execution_count": 86,
   "metadata": {},
   "outputs": [
    {
     "name": "stdout",
     "output_type": "stream",
     "text": [
      "Treatment effect estimate: 5.5247580595516865\n",
      "True LATE: 4.982711945153069\n"
     ]
    }
   ],
   "source": [
    "b0, b1, b2 = model0.params.to_numpy()\n",
    "print(\"Treatment effect estimate:\", b2)\n",
    "print(\"True LATE:\", late)"
   ]
  },
  {
   "cell_type": "markdown",
   "metadata": {},
   "source": [
    "The fitted model also provides other estimation diagnostics"
   ]
  },
  {
   "cell_type": "code",
   "execution_count": 87,
   "metadata": {},
   "outputs": [
    {
     "name": "stdout",
     "output_type": "stream",
     "text": [
      "First stage coefficients: const    0.013376\n",
      "qps     -0.243146\n",
      "Z        1.003502\n",
      "Name: parameter, dtype: float64\n",
      "First stage p-values: const    0.000103\n",
      "qps      0.000671\n",
      "Z        0.000000\n",
      "Name: pvalue, dtype: float64\n",
      "First stage r2: 0.5441074222268663\n"
     ]
    }
   ],
   "source": [
    "# First stage details\n",
    "fs = model0.first_stage.individual['D']\n",
    "\n",
    "print(\"First stage coefficients:\", fs.params)\n",
    "print(\"First stage p-values:\", fs.pvalues)\n",
    "print(\"First stage r2:\", fs.rsquared)"
   ]
  },
  {
   "cell_type": "code",
   "execution_count": 88,
   "metadata": {},
   "outputs": [
    {
     "name": "stdout",
     "output_type": "stream",
     "text": [
      "                            OLS Estimation Summary                            \n",
      "==============================================================================\n",
      "Dep. Variable:                      D   R-squared:                      0.5441\n",
      "Estimator:                        OLS   Adj. R-squared:                 0.5379\n",
      "No. Observations:                 150   F-statistic:                    614.58\n",
      "Date:                Fri, Sep 18 2020   P-value (F-stat)                0.0000\n",
      "Time:                        13:48:58   Distribution:                  chi2(2)\n",
      "Cov. Estimator:                robust                                         \n",
      "                                                                              \n",
      "                             Parameter Estimates                              \n",
      "==============================================================================\n",
      "            Parameter  Std. Err.     T-stat    P-value    Lower CI    Upper CI\n",
      "------------------------------------------------------------------------------\n",
      "const          0.0134     0.0034     3.8823     0.0001      0.0066      0.0201\n",
      "qps           -0.2431     0.0715    -3.4010     0.0007     -0.3833     -0.1030\n",
      "Z              1.0035     0.0557     18.024     0.0000      0.8944      1.1126\n",
      "==============================================================================\n"
     ]
    }
   ],
   "source": [
    "print(fs)"
   ]
  },
  {
   "cell_type": "code",
   "execution_count": null,
   "metadata": {},
   "outputs": [],
   "source": []
  }
 ],
 "metadata": {
  "kernelspec": {
   "display_name": "Python 3",
   "language": "python",
   "name": "python3"
  },
  "language_info": {
   "codemirror_mode": {
    "name": "ipython",
    "version": 3
   },
   "file_extension": ".py",
   "mimetype": "text/x-python",
   "name": "python",
   "nbconvert_exporter": "python",
   "pygments_lexer": "ipython3",
   "version": "3.7.7"
  }
 },
 "nbformat": 4,
 "nbformat_minor": 4
}
