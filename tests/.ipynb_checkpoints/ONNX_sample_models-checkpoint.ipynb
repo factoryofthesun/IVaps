{
 "cells": [
  {
   "cell_type": "code",
   "execution_count": 205,
   "metadata": {},
   "outputs": [],
   "source": [
    "# Testing ONNX input types \n",
    "import sys\n",
    "import os\n",
    "\n",
    "import pandas as pd\n",
    "import numpy as np\n",
    "import pytest\n",
    "from pathlib import Path\n",
    "from sklearn.datasets import load_iris\n",
    "import onnxruntime as rt\n",
    "from mlisne.dataset import IVEstimatorDataset\n",
    "from mlisne.helpers import estimate_qps"
   ]
  },
  {
   "cell_type": "code",
   "execution_count": 206,
   "metadata": {},
   "outputs": [],
   "source": [
    "model_out_path = \"../examples/models\""
   ]
  },
  {
   "cell_type": "markdown",
   "metadata": {},
   "source": [
    "## Generating Sklearn Logistic Regression Models"
   ]
  },
  {
   "cell_type": "code",
   "execution_count": 207,
   "metadata": {},
   "outputs": [],
   "source": [
    "iris = load_iris()\n",
    "X, y = iris.data, iris.target"
   ]
  },
  {
   "cell_type": "code",
   "execution_count": 208,
   "metadata": {},
   "outputs": [],
   "source": [
    "X = np.array(X, dtype=np.float32)\n",
    "y[y > 0] = 1 # change y into a \"binary\" recommendation "
   ]
  },
  {
   "cell_type": "code",
   "execution_count": 209,
   "metadata": {},
   "outputs": [],
   "source": [
    "from sklearn.model_selection import train_test_split\n",
    "from sklearn.linear_model import LogisticRegression \n",
    "\n",
    "X_train, X_test, y_train, y_test = train_test_split(X, y)"
   ]
  },
  {
   "cell_type": "code",
   "execution_count": 210,
   "metadata": {},
   "outputs": [
    {
     "data": {
      "text/plain": [
       "LogisticRegression()"
      ]
     },
     "execution_count": 210,
     "metadata": {},
     "output_type": "execute_result"
    }
   ],
   "source": [
    "clr = LogisticRegression()\n",
    "clr.fit(X_train, y_train)"
   ]
  },
  {
   "cell_type": "code",
   "execution_count": 214,
   "metadata": {},
   "outputs": [
    {
     "data": {
      "text/plain": [
       "array([[9.79952542e-01, 2.00474575e-02],\n",
       "       [9.85864068e-01, 1.41359323e-02],\n",
       "       [5.53610219e-05, 9.99944639e-01],\n",
       "       [4.60621774e-03, 9.95393782e-01],\n",
       "       [3.50490473e-03, 9.96495095e-01],\n",
       "       [9.76274021e-01, 2.37259794e-02],\n",
       "       [9.86244166e-01, 1.37558341e-02],\n",
       "       [2.99901312e-02, 9.70009869e-01],\n",
       "       [2.53523796e-02, 9.74647620e-01],\n",
       "       [9.51934181e-04, 9.99048066e-01],\n",
       "       [7.29251099e-03, 9.92707489e-01],\n",
       "       [9.87931575e-01, 1.20684252e-02],\n",
       "       [9.77088390e-01, 2.29116105e-02],\n",
       "       [2.31593267e-02, 9.76840673e-01],\n",
       "       [8.87567556e-03, 9.91124324e-01],\n",
       "       [5.88629494e-04, 9.99411371e-01],\n",
       "       [6.33131253e-02, 9.36686875e-01],\n",
       "       [3.34391956e-04, 9.99665608e-01],\n",
       "       [9.86028635e-01, 1.39713649e-02],\n",
       "       [4.23865644e-03, 9.95761344e-01],\n",
       "       [6.10376104e-03, 9.93896239e-01],\n",
       "       [9.34769252e-02, 9.06523075e-01],\n",
       "       [2.73249580e-01, 7.26750420e-01],\n",
       "       [9.85331736e-01, 1.46682637e-02],\n",
       "       [9.66364213e-01, 3.36357874e-02],\n",
       "       [1.69234844e-05, 9.99983077e-01],\n",
       "       [9.48905823e-01, 5.10941771e-02],\n",
       "       [9.77095862e-01, 2.29041376e-02],\n",
       "       [1.72927730e-03, 9.98270723e-01],\n",
       "       [2.70269945e-04, 9.99729730e-01],\n",
       "       [9.80213173e-01, 1.97868267e-02],\n",
       "       [4.91244276e-04, 9.99508756e-01],\n",
       "       [1.80613303e-01, 8.19386697e-01],\n",
       "       [2.76486388e-03, 9.97235136e-01],\n",
       "       [9.01320238e-05, 9.99909868e-01],\n",
       "       [3.06366982e-04, 9.99693633e-01],\n",
       "       [4.89698469e-04, 9.99510302e-01],\n",
       "       [9.94435244e-01, 5.56475565e-03]])"
      ]
     },
     "execution_count": 214,
     "metadata": {},
     "output_type": "execute_result"
    }
   ],
   "source": [
    "clr.predict_proba(X_test)"
   ]
  },
  {
   "cell_type": "code",
   "execution_count": 211,
   "metadata": {},
   "outputs": [],
   "source": [
    "import pickle \n",
    "\n",
    "with open(f\"{model_out_path}/iris_logreg.pickle\", \"wb\") as f:\n",
    "    pickle.dump(clr, f)"
   ]
  },
  {
   "cell_type": "code",
   "execution_count": 47,
   "metadata": {},
   "outputs": [],
   "source": [
    "from skl2onnx import convert_sklearn, to_onnx\n",
    "from skl2onnx.common.data_types import FloatTensorType, DoubleTensorType, Int64TensorType\n",
    "\n",
    "initial_type = [('float_input', FloatTensorType([None, 4]))]\n",
    "onx = convert_sklearn(clr, initial_types=initial_type)\n",
    "with open(f\"{model_out_path}/logreg_iris.onnx\", \"wb\") as f:\n",
    "    f.write(onx.SerializeToString())\n",
    "    \n",
    "initial_type = [('double_input', DoubleTensorType([None, 4]))]\n",
    "onx = convert_sklearn(clr, initial_types=initial_type)\n",
    "with open(f\"{model_out_path}/logreg_iris_double.onnx\", \"wb\") as f:\n",
    "    f.write(onx.SerializeToString())\n",
    "    \n",
    "onx = to_onnx(clr, X = X_train)\n",
    "with open(f\"{model_out_path}/logreg_iris_infertype.onnx\", \"wb\") as f:\n",
    "    f.write(onx.SerializeToString())"
   ]
  },
  {
   "cell_type": "code",
   "execution_count": 175,
   "metadata": {},
   "outputs": [],
   "source": [
    "sess = rt.InferenceSession(f\"{model_out_path}/logreg_iris.onnx\")"
   ]
  },
  {
   "cell_type": "code",
   "execution_count": 176,
   "metadata": {},
   "outputs": [
    {
     "data": {
      "text/plain": [
       "'float_input'"
      ]
     },
     "execution_count": 176,
     "metadata": {},
     "output_type": "execute_result"
    }
   ],
   "source": [
    "input_name = sess.get_inputs()[0].name\n",
    "input_name"
   ]
  },
  {
   "cell_type": "code",
   "execution_count": 177,
   "metadata": {},
   "outputs": [
    {
     "data": {
      "text/plain": [
       "'output_probability'"
      ]
     },
     "execution_count": 177,
     "metadata": {},
     "output_type": "execute_result"
    }
   ],
   "source": [
    "label_name = sess.get_outputs()[1].name\n",
    "label_name"
   ]
  },
  {
   "cell_type": "code",
   "execution_count": 183,
   "metadata": {},
   "outputs": [],
   "source": [
    "pred_onx = sess.run([label_name], {input_name: X})[0]"
   ]
  },
  {
   "cell_type": "code",
   "execution_count": 22,
   "metadata": {},
   "outputs": [
    {
     "data": {
      "text/plain": [
       "array([[4.3, 2. , 1. , 0.1],\n",
       "       [7.9, 4.4, 6.9, 2.5]], dtype=float32)"
      ]
     },
     "execution_count": 22,
     "metadata": {},
     "output_type": "execute_result"
    }
   ],
   "source": [
    "np.apply_along_axis(lambda x: (min(x), max(x)), axis=0, arr=X)"
   ]
  },
  {
   "cell_type": "markdown",
   "metadata": {
    "scrolled": true
   },
   "source": [
    "## Generating Pytorch binary classification models"
   ]
  },
  {
   "cell_type": "markdown",
   "metadata": {},
   "source": [
    "Training code adapted from: https://stackabuse.com/introduction-to-pytorch-for-classification/"
   ]
  },
  {
   "cell_type": "code",
   "execution_count": 49,
   "metadata": {},
   "outputs": [],
   "source": [
    "import numpy as np\n",
    "from sklearn.datasets import make_moons\n",
    "from sklearn.model_selection import train_test_split\n",
    "import matplotlib.pyplot as plt\n",
    "import torch\n",
    "import torch.nn as nn"
   ]
  },
  {
   "cell_type": "code",
   "execution_count": 53,
   "metadata": {},
   "outputs": [
    {
     "data": {
      "text/html": [
       "<div>\n",
       "<style scoped>\n",
       "    .dataframe tbody tr th:only-of-type {\n",
       "        vertical-align: middle;\n",
       "    }\n",
       "\n",
       "    .dataframe tbody tr th {\n",
       "        vertical-align: top;\n",
       "    }\n",
       "\n",
       "    .dataframe thead th {\n",
       "        text-align: right;\n",
       "    }\n",
       "</style>\n",
       "<table border=\"1\" class=\"dataframe\">\n",
       "  <thead>\n",
       "    <tr style=\"text-align: right;\">\n",
       "      <th></th>\n",
       "      <th>RowNumber</th>\n",
       "      <th>CustomerId</th>\n",
       "      <th>Surname</th>\n",
       "      <th>CreditScore</th>\n",
       "      <th>Geography</th>\n",
       "      <th>Gender</th>\n",
       "      <th>Age</th>\n",
       "      <th>Tenure</th>\n",
       "      <th>Balance</th>\n",
       "      <th>NumOfProducts</th>\n",
       "      <th>HasCrCard</th>\n",
       "      <th>IsActiveMember</th>\n",
       "      <th>EstimatedSalary</th>\n",
       "      <th>Exited</th>\n",
       "    </tr>\n",
       "  </thead>\n",
       "  <tbody>\n",
       "    <tr>\n",
       "      <th>0</th>\n",
       "      <td>1</td>\n",
       "      <td>15634602</td>\n",
       "      <td>Hargrave</td>\n",
       "      <td>619</td>\n",
       "      <td>France</td>\n",
       "      <td>Female</td>\n",
       "      <td>42</td>\n",
       "      <td>2</td>\n",
       "      <td>0.00</td>\n",
       "      <td>1</td>\n",
       "      <td>1</td>\n",
       "      <td>1</td>\n",
       "      <td>101348.88</td>\n",
       "      <td>1</td>\n",
       "    </tr>\n",
       "    <tr>\n",
       "      <th>1</th>\n",
       "      <td>2</td>\n",
       "      <td>15647311</td>\n",
       "      <td>Hill</td>\n",
       "      <td>608</td>\n",
       "      <td>Spain</td>\n",
       "      <td>Female</td>\n",
       "      <td>41</td>\n",
       "      <td>1</td>\n",
       "      <td>83807.86</td>\n",
       "      <td>1</td>\n",
       "      <td>0</td>\n",
       "      <td>1</td>\n",
       "      <td>112542.58</td>\n",
       "      <td>0</td>\n",
       "    </tr>\n",
       "    <tr>\n",
       "      <th>2</th>\n",
       "      <td>3</td>\n",
       "      <td>15619304</td>\n",
       "      <td>Onio</td>\n",
       "      <td>502</td>\n",
       "      <td>France</td>\n",
       "      <td>Female</td>\n",
       "      <td>42</td>\n",
       "      <td>8</td>\n",
       "      <td>159660.80</td>\n",
       "      <td>3</td>\n",
       "      <td>1</td>\n",
       "      <td>0</td>\n",
       "      <td>113931.57</td>\n",
       "      <td>1</td>\n",
       "    </tr>\n",
       "    <tr>\n",
       "      <th>3</th>\n",
       "      <td>4</td>\n",
       "      <td>15701354</td>\n",
       "      <td>Boni</td>\n",
       "      <td>699</td>\n",
       "      <td>France</td>\n",
       "      <td>Female</td>\n",
       "      <td>39</td>\n",
       "      <td>1</td>\n",
       "      <td>0.00</td>\n",
       "      <td>2</td>\n",
       "      <td>0</td>\n",
       "      <td>0</td>\n",
       "      <td>93826.63</td>\n",
       "      <td>0</td>\n",
       "    </tr>\n",
       "    <tr>\n",
       "      <th>4</th>\n",
       "      <td>5</td>\n",
       "      <td>15737888</td>\n",
       "      <td>Mitchell</td>\n",
       "      <td>850</td>\n",
       "      <td>Spain</td>\n",
       "      <td>Female</td>\n",
       "      <td>43</td>\n",
       "      <td>2</td>\n",
       "      <td>125510.82</td>\n",
       "      <td>1</td>\n",
       "      <td>1</td>\n",
       "      <td>1</td>\n",
       "      <td>79084.10</td>\n",
       "      <td>0</td>\n",
       "    </tr>\n",
       "  </tbody>\n",
       "</table>\n",
       "</div>"
      ],
      "text/plain": [
       "   RowNumber  CustomerId   Surname  CreditScore Geography  Gender  Age  \\\n",
       "0          1    15634602  Hargrave          619    France  Female   42   \n",
       "1          2    15647311      Hill          608     Spain  Female   41   \n",
       "2          3    15619304      Onio          502    France  Female   42   \n",
       "3          4    15701354      Boni          699    France  Female   39   \n",
       "4          5    15737888  Mitchell          850     Spain  Female   43   \n",
       "\n",
       "   Tenure    Balance  NumOfProducts  HasCrCard  IsActiveMember  \\\n",
       "0       2       0.00              1          1               1   \n",
       "1       1   83807.86              1          0               1   \n",
       "2       8  159660.80              3          1               0   \n",
       "3       1       0.00              2          0               0   \n",
       "4       2  125510.82              1          1               1   \n",
       "\n",
       "   EstimatedSalary  Exited  \n",
       "0        101348.88       1  \n",
       "1        112542.58       0  \n",
       "2        113931.57       1  \n",
       "3         93826.63       0  \n",
       "4         79084.10       0  "
      ]
     },
     "execution_count": 53,
     "metadata": {},
     "output_type": "execute_result"
    }
   ],
   "source": [
    "data_path = \"../examples/data\"\n",
    "churn = pd.read_csv(f\"{data_path}/Kaggle_Churn_Modelling.csv\")\n",
    "churn.head()"
   ]
  },
  {
   "cell_type": "markdown",
   "metadata": {},
   "source": [
    "### We will first simulate treatment effect data"
   ]
  },
  {
   "cell_type": "code",
   "execution_count": 84,
   "metadata": {},
   "outputs": [],
   "source": [
    "categorical_cols = ['Geography', 'Gender', 'HasCrCard', 'IsActiveMember']\n",
    "numerical_cols = ['CreditScore', 'Age', 'Tenure', 'Balance', 'NumOfProducts', 'EstimatedSalary']"
   ]
  },
  {
   "cell_type": "code",
   "execution_count": 60,
   "metadata": {},
   "outputs": [],
   "source": [
    "# Convert categorical to discrete types \n",
    "for category in categorical_cols:\n",
    "    churn[category] = churn[category].astype('category')"
   ]
  },
  {
   "cell_type": "code",
   "execution_count": 78,
   "metadata": {},
   "outputs": [
    {
     "data": {
      "text/plain": [
       "array(['IsActiveMember', 'Gender', 'CreditScore', 'HasCrCard',\n",
       "       'Geography', 'NumOfProducts', 'Tenure', 'CustomerId'], dtype=object)"
      ]
     },
     "execution_count": 78,
     "metadata": {},
     "output_type": "execute_result"
    }
   ],
   "source": [
    "# Random sampling of 8 columns to use in treatment effect estimation \n",
    "treatment_cols = np.random.choice(churn.drop([\"Surname\", 'RowNumber'], axis=1).columns, 8, replace=False)\n",
    "treatment_cols"
   ]
  },
  {
   "cell_type": "code",
   "execution_count": 79,
   "metadata": {},
   "outputs": [],
   "source": [
    "# Random sampling of coefficient distributions\n",
    "means = np.random.uniform(-8, 8, 8)\n",
    "sd = np.random.uniform(0,5, 8)"
   ]
  },
  {
   "cell_type": "code",
   "execution_count": 80,
   "metadata": {},
   "outputs": [
    {
     "name": "stdout",
     "output_type": "stream",
     "text": [
      "CreditScore\n",
      "NumOfProducts\n",
      "Tenure\n",
      "CustomerId\n"
     ]
    }
   ],
   "source": [
    "# Generate Y0 \n",
    "churn['Y0'] = 0\n",
    "for i in range(len(treatment_cols)):\n",
    "    coefs = np.random.normal(means[i], sd[i], len(churn))\n",
    "    if churn[treatment_cols[i]].dtype.name == 'category':\n",
    "        churn['Y0'] += coefs * churn[treatment_cols[i]].cat.codes.values\n",
    "    else:\n",
    "        churn['Y0'] += coefs * churn[treatment_cols[i]].to_numpy()\n",
    "\n",
    "err = np.random.normal(0,3) \n",
    "churn['Y0'] += err "
   ]
  },
  {
   "cell_type": "code",
   "execution_count": 82,
   "metadata": {},
   "outputs": [],
   "source": [
    "# Generate Y1 \n",
    "treatment_effect = np.random.normal(5, 1, len(churn))\n",
    "err_iv = np.random.normal(size=len(churn))\n",
    "churn['Y1'] = churn['Y0'] + treatment_effect + err_iv"
   ]
  },
  {
   "cell_type": "markdown",
   "metadata": {},
   "source": [
    "## Train Pytorch Model"
   ]
  },
  {
   "cell_type": "code",
   "execution_count": 240,
   "metadata": {},
   "outputs": [],
   "source": [
    "# Get data as tensors\n",
    "cat = []\n",
    "for c in categorical_cols:\n",
    "    cat.append(churn[c].cat.codes.values)\n",
    "cat_data = np.stack(cat, 1)\n",
    "\n",
    "cat_tensor = torch.tensor(cat_data).double()\n",
    "num_tensor = torch.tensor(np.array(churn[numerical_cols]))\n",
    "tot_tensor = torch.cat((cat_tensor, num_tensor), 1)\n",
    "output = torch.tensor(churn['Exited'])"
   ]
  },
  {
   "cell_type": "code",
   "execution_count": 241,
   "metadata": {},
   "outputs": [],
   "source": [
    "# Create categorical embeddings \n",
    "categorical_column_sizes = [len(churn[column].cat.categories) for column in categorical_cols]\n",
    "categorical_embedding_sizes = [(col_size, min(50, (col_size+1)//2)) for col_size in categorical_column_sizes]"
   ]
  },
  {
   "cell_type": "markdown",
   "metadata": {},
   "source": [
    "We will create two different models: one with categorical embeddings, and one without "
   ]
  },
  {
   "cell_type": "code",
   "execution_count": 116,
   "metadata": {},
   "outputs": [],
   "source": [
    "from torch.utils.data import TensorDataset, DataLoader, RandomSampler, SequentialSampler, random_split\n",
    "\n",
    "train_length = round(0.8 * len(cat_tensor))\n",
    "test_length = len(cat_tensor) - train_length\n",
    "cat_dataset = TensorDataset(cat_tensor, num_tensor, output) \n",
    "cat_dataset_train, cat_dataset_test = random_split(cat_dataset, [train_length, test_length])\n",
    "\n",
    "dataset = TensorDataset(tot_tensor, output) \n",
    "dataset_train, dataset_test = random_split(dataset, [train_length, test_length])"
   ]
  },
  {
   "cell_type": "code",
   "execution_count": 117,
   "metadata": {},
   "outputs": [],
   "source": [
    "train_sampler = RandomSampler(cat_dataset_train)\n",
    "train_dataloader = DataLoader(cat_dataset_train, sampler=train_sampler, batch_size=train_length)"
   ]
  },
  {
   "cell_type": "code",
   "execution_count": 132,
   "metadata": {},
   "outputs": [],
   "source": [
    "# Model with categorical embeddings\n",
    "class CatModel(nn.Module):\n",
    "\n",
    "    def __init__(self, embedding_size, num_numerical_cols, output_size, layers, p=0.4):\n",
    "        super().__init__()\n",
    "        self.all_embeddings = nn.ModuleList([nn.Embedding(ni, nf) for ni, nf in embedding_size])\n",
    "        self.embedding_dropout = nn.Dropout(p)\n",
    "        self.batch_norm_num = nn.BatchNorm1d(num_numerical_cols)\n",
    "\n",
    "        all_layers = []\n",
    "        num_categorical_cols = sum((nf for ni, nf in embedding_size))\n",
    "        input_size = num_categorical_cols + num_numerical_cols\n",
    "\n",
    "        for i in layers:\n",
    "            all_layers.append(nn.Linear(input_size, i))\n",
    "            all_layers.append(nn.ReLU(inplace=True))\n",
    "            all_layers.append(nn.BatchNorm1d(i))\n",
    "            all_layers.append(nn.Dropout(p))\n",
    "            input_size = i\n",
    "\n",
    "        all_layers.append(nn.Linear(layers[-1], output_size))\n",
    "\n",
    "        self.layers = nn.Sequential(*all_layers)\n",
    "        \n",
    "        self.m = nn.Softmax(dim=1)\n",
    "\n",
    "    def forward(self, x_categorical, x_numerical):\n",
    "        embeddings = []\n",
    "        for i,e in enumerate(self.all_embeddings):\n",
    "            embeddings.append(e(x_categorical[:,i]))\n",
    "        x = torch.cat(embeddings, 1)\n",
    "        x = self.embedding_dropout(x)\n",
    "\n",
    "        x_numerical = self.batch_norm_num(x_numerical)\n",
    "        x = torch.cat([x, x_numerical], 1)\n",
    "        x = self.layers(x)\n",
    "        x = self.m(x)\n",
    "        \n",
    "        return x[:,1]"
   ]
  },
  {
   "cell_type": "code",
   "execution_count": 136,
   "metadata": {},
   "outputs": [],
   "source": [
    "cat_model = CatModel(categorical_embedding_sizes, num_tensor.shape[1], 2, [200,100,50], p=0.4)"
   ]
  },
  {
   "cell_type": "code",
   "execution_count": 137,
   "metadata": {},
   "outputs": [],
   "source": [
    "loss_function = nn.MSELoss()\n",
    "optimizer = torch.optim.Adam(cat_model.parameters(), lr=0.001)"
   ]
  },
  {
   "cell_type": "code",
   "execution_count": 141,
   "metadata": {},
   "outputs": [
    {
     "name": "stdout",
     "output_type": "stream",
     "text": [
      "epoch:   1 loss: 0.29775116\n",
      "epoch:  26 loss: 0.18236019\n",
      "epoch:  51 loss: 0.15809424\n",
      "epoch:  76 loss: 0.14666839\n",
      "epoch: 101 loss: 0.14009865\n",
      "epoch: 126 loss: 0.13339068\n",
      "epoch: 151 loss: 0.12312392\n",
      "epoch: 176 loss: 0.11838789\n",
      "epoch: 201 loss: 0.11551349\n",
      "epoch: 226 loss: 0.11376292\n",
      "epoch: 251 loss: 0.11447604\n",
      "epoch: 276 loss: 0.11106870\n",
      "epoch: 300 loss: 0.1125489250\n"
     ]
    }
   ],
   "source": [
    "epochs = 300\n",
    "aggregated_losses = []\n",
    "cat_model.train()\n",
    "\n",
    "for i in range(epochs):\n",
    "    i += 1\n",
    "    for step, batch in enumerate(train_dataloader):\n",
    "        cat_train, num_train, output = batch\n",
    "        y_pred = cat_model(cat_train.long(), num_train.float())\n",
    "        single_loss = loss_function(y_pred.float(), output.float())\n",
    "        aggregated_losses.append(single_loss)\n",
    "        single_loss.backward()\n",
    "        optimizer.step()\n",
    "    optimizer.zero_grad()\n",
    "    \n",
    "    if i%25 == 1:\n",
    "        print(f'epoch: {i:3} loss: {single_loss.item():10.8f}')\n",
    "\n",
    "print(f'epoch: {i:3} loss: {single_loss.item():10.10f}')"
   ]
  },
  {
   "cell_type": "code",
   "execution_count": 225,
   "metadata": {},
   "outputs": [],
   "source": [
    "# Model without categorical embeddings\n",
    "class Model(nn.Module):\n",
    "\n",
    "    def __init__(self, input_size, output_size, layers, p=0.4):\n",
    "        super().__init__()\n",
    "\n",
    "        all_layers=[]\n",
    "        for i in layers:\n",
    "            all_layers.append(nn.Linear(input_size, i))\n",
    "            all_layers.append(nn.ReLU(inplace=True))\n",
    "            all_layers.append(nn.BatchNorm1d(i))\n",
    "            all_layers.append(nn.Dropout(p))\n",
    "            input_size = i\n",
    "\n",
    "        all_layers.append(nn.Linear(layers[-1], output_size))\n",
    "\n",
    "        self.layers = nn.Sequential(*all_layers)\n",
    "        \n",
    "        self.m = nn.Softmax(dim=1)\n",
    "\n",
    "    def forward(self, x):\n",
    "        x = self.layers(x)\n",
    "        x = self.m(x)\n",
    "        \n",
    "        return x[:,1]"
   ]
  },
  {
   "cell_type": "code",
   "execution_count": 226,
   "metadata": {},
   "outputs": [],
   "source": [
    "model = Model(tot_tensor.shape[1], 2, [200,100,50], p=0.4)\n",
    "train_sampler = RandomSampler(dataset_train)\n",
    "train_dataloader = DataLoader(dataset_train, sampler=train_sampler, batch_size=train_length)"
   ]
  },
  {
   "cell_type": "code",
   "execution_count": 238,
   "metadata": {},
   "outputs": [
    {
     "data": {
      "text/plain": [
       "10"
      ]
     },
     "execution_count": 238,
     "metadata": {},
     "output_type": "execute_result"
    }
   ],
   "source": [
    "tot_tensor.shape[1]"
   ]
  },
  {
   "cell_type": "code",
   "execution_count": 237,
   "metadata": {},
   "outputs": [
    {
     "data": {
      "text/plain": [
       "tensor([[616.8236]], grad_fn=<AddmmBackward>)"
      ]
     },
     "execution_count": 237,
     "metadata": {},
     "output_type": "execute_result"
    }
   ],
   "source": [
    "model.eval()\n",
    "model(tot_tensor[0:1,].float())"
   ]
  },
  {
   "cell_type": "code",
   "execution_count": 224,
   "metadata": {},
   "outputs": [],
   "source": [
    "loss_function = nn.MSELoss()\n",
    "optimizer = torch.optim.Adam(model.parameters(), lr=0.001)"
   ]
  },
  {
   "cell_type": "code",
   "execution_count": 151,
   "metadata": {},
   "outputs": [
    {
     "name": "stdout",
     "output_type": "stream",
     "text": [
      "epoch:   1 loss: 0.27642402\n",
      "epoch:  26 loss: 0.23063646\n",
      "epoch:  51 loss: 0.19596481\n",
      "epoch:  76 loss: 0.17618151\n",
      "epoch: 101 loss: 0.16872561\n",
      "epoch: 126 loss: 0.16440813\n",
      "epoch: 151 loss: 0.16339450\n",
      "epoch: 176 loss: 0.16258520\n",
      "epoch: 201 loss: 0.16184682\n",
      "epoch: 226 loss: 0.16221909\n",
      "epoch: 251 loss: 0.16204761\n",
      "epoch: 276 loss: 0.16202207\n",
      "epoch: 300 loss: 0.1619667709\n"
     ]
    }
   ],
   "source": [
    "epochs = 300\n",
    "aggregated_losses = []\n",
    "model.train()\n",
    "\n",
    "for i in range(epochs):\n",
    "    i += 1\n",
    "    for step, batch in enumerate(train_dataloader):\n",
    "        train, output = batch\n",
    "        y_pred = model(train.float())\n",
    "        single_loss = loss_function(y_pred.float(), output.float())\n",
    "        aggregated_losses.append(single_loss)\n",
    "        single_loss.backward()\n",
    "        optimizer.step()\n",
    "    optimizer.zero_grad()\n",
    "    \n",
    "    if i%25 == 1:\n",
    "        print(f'epoch: {i:3} loss: {single_loss.item():10.8f}')\n",
    "\n",
    "print(f'epoch: {i:3} loss: {single_loss.item():10.10f}')"
   ]
  },
  {
   "cell_type": "code",
   "execution_count": 220,
   "metadata": {},
   "outputs": [],
   "source": [
    "# Save trained models \n",
    "torch.save(cat_model.state_dict(), f\"{model_out_path}/churn_categorical.pt\")\n",
    "torch.save(model.state_dict(), f\"{model_out_path}/churn.pt\")"
   ]
  },
  {
   "cell_type": "code",
   "execution_count": 162,
   "metadata": {},
   "outputs": [],
   "source": [
    "# Save data and keep track of treatment columns, true treatment effects, etc. \n",
    "cat_model.eval()\n",
    "with torch.no_grad():\n",
    "    cat_out = cat_model(cat_tensor.long(), num_tensor.float())\n",
    "\n",
    "rec_draws = np.random.uniform(size=len(churn))\n",
    "churn['Z_cat'] = (rec_draws <= cat_out.numpy()).astype(int)"
   ]
  },
  {
   "cell_type": "code",
   "execution_count": 163,
   "metadata": {},
   "outputs": [],
   "source": [
    "model.eval()\n",
    "with torch.no_grad():\n",
    "    out = model(tot_tensor.float())\n",
    "\n",
    "rec_draws = np.random.uniform(size=len(churn))\n",
    "churn['Z'] = (rec_draws <= out.numpy()).astype(int)"
   ]
  },
  {
   "cell_type": "code",
   "execution_count": 164,
   "metadata": {},
   "outputs": [],
   "source": [
    "# Follow the ML recommendation Z 75% of the time \n",
    "treat_probs = np.random.uniform(size=len(churn))\n",
    "D = []\n",
    "for i in range(len(treat_probs)):\n",
    "    if treat_probs[i] >= 0.75:\n",
    "        if churn[\"Z\"][i] == 1:\n",
    "            D.append(0)\n",
    "        else:\n",
    "            D.append(1)\n",
    "    else:\n",
    "        D.append(churn[\"Z\"][i])\n",
    "\n",
    "churn['D'] = D \n",
    "treat_probs = np.random.uniform(size=len(churn))\n",
    "D = []\n",
    "for i in range(len(treat_probs)):\n",
    "    if treat_probs[i] >= 0.75:\n",
    "        if churn[\"Z_cat\"][i] == 1:\n",
    "            D.append(0)\n",
    "        else:\n",
    "            D.append(1)\n",
    "    else:\n",
    "        D.append(churn[\"Z_cat\"][i])\n",
    "churn['D_cat'] = D"
   ]
  },
  {
   "cell_type": "code",
   "execution_count": 165,
   "metadata": {},
   "outputs": [
    {
     "data": {
      "text/html": [
       "<div>\n",
       "<style scoped>\n",
       "    .dataframe tbody tr th:only-of-type {\n",
       "        vertical-align: middle;\n",
       "    }\n",
       "\n",
       "    .dataframe tbody tr th {\n",
       "        vertical-align: top;\n",
       "    }\n",
       "\n",
       "    .dataframe thead th {\n",
       "        text-align: right;\n",
       "    }\n",
       "</style>\n",
       "<table border=\"1\" class=\"dataframe\">\n",
       "  <thead>\n",
       "    <tr style=\"text-align: right;\">\n",
       "      <th></th>\n",
       "      <th>RowNumber</th>\n",
       "      <th>CustomerId</th>\n",
       "      <th>Surname</th>\n",
       "      <th>CreditScore</th>\n",
       "      <th>Geography</th>\n",
       "      <th>Gender</th>\n",
       "      <th>Age</th>\n",
       "      <th>Tenure</th>\n",
       "      <th>Balance</th>\n",
       "      <th>NumOfProducts</th>\n",
       "      <th>HasCrCard</th>\n",
       "      <th>IsActiveMember</th>\n",
       "      <th>EstimatedSalary</th>\n",
       "      <th>Exited</th>\n",
       "      <th>Y0</th>\n",
       "      <th>Y1</th>\n",
       "      <th>Z_cat</th>\n",
       "      <th>Z</th>\n",
       "      <th>D</th>\n",
       "      <th>D_cat</th>\n",
       "    </tr>\n",
       "  </thead>\n",
       "  <tbody>\n",
       "    <tr>\n",
       "      <th>0</th>\n",
       "      <td>1</td>\n",
       "      <td>15634602</td>\n",
       "      <td>Hargrave</td>\n",
       "      <td>619</td>\n",
       "      <td>France</td>\n",
       "      <td>Female</td>\n",
       "      <td>42</td>\n",
       "      <td>2</td>\n",
       "      <td>0.00</td>\n",
       "      <td>1</td>\n",
       "      <td>1</td>\n",
       "      <td>1</td>\n",
       "      <td>101348.88</td>\n",
       "      <td>1</td>\n",
       "      <td>-2.055896e+07</td>\n",
       "      <td>-2.055896e+07</td>\n",
       "      <td>0</td>\n",
       "      <td>0</td>\n",
       "      <td>1</td>\n",
       "      <td>1</td>\n",
       "    </tr>\n",
       "    <tr>\n",
       "      <th>1</th>\n",
       "      <td>2</td>\n",
       "      <td>15647311</td>\n",
       "      <td>Hill</td>\n",
       "      <td>608</td>\n",
       "      <td>Spain</td>\n",
       "      <td>Female</td>\n",
       "      <td>41</td>\n",
       "      <td>1</td>\n",
       "      <td>83807.86</td>\n",
       "      <td>1</td>\n",
       "      <td>0</td>\n",
       "      <td>1</td>\n",
       "      <td>112542.58</td>\n",
       "      <td>0</td>\n",
       "      <td>-6.405786e+07</td>\n",
       "      <td>-6.405786e+07</td>\n",
       "      <td>0</td>\n",
       "      <td>0</td>\n",
       "      <td>0</td>\n",
       "      <td>0</td>\n",
       "    </tr>\n",
       "    <tr>\n",
       "      <th>2</th>\n",
       "      <td>3</td>\n",
       "      <td>15619304</td>\n",
       "      <td>Onio</td>\n",
       "      <td>502</td>\n",
       "      <td>France</td>\n",
       "      <td>Female</td>\n",
       "      <td>42</td>\n",
       "      <td>8</td>\n",
       "      <td>159660.80</td>\n",
       "      <td>3</td>\n",
       "      <td>1</td>\n",
       "      <td>0</td>\n",
       "      <td>113931.57</td>\n",
       "      <td>1</td>\n",
       "      <td>-2.849308e+07</td>\n",
       "      <td>-2.849307e+07</td>\n",
       "      <td>1</td>\n",
       "      <td>0</td>\n",
       "      <td>0</td>\n",
       "      <td>1</td>\n",
       "    </tr>\n",
       "    <tr>\n",
       "      <th>3</th>\n",
       "      <td>4</td>\n",
       "      <td>15701354</td>\n",
       "      <td>Boni</td>\n",
       "      <td>699</td>\n",
       "      <td>France</td>\n",
       "      <td>Female</td>\n",
       "      <td>39</td>\n",
       "      <td>1</td>\n",
       "      <td>0.00</td>\n",
       "      <td>2</td>\n",
       "      <td>0</td>\n",
       "      <td>0</td>\n",
       "      <td>93826.63</td>\n",
       "      <td>0</td>\n",
       "      <td>-6.802221e+07</td>\n",
       "      <td>-6.802221e+07</td>\n",
       "      <td>0</td>\n",
       "      <td>0</td>\n",
       "      <td>0</td>\n",
       "      <td>0</td>\n",
       "    </tr>\n",
       "    <tr>\n",
       "      <th>4</th>\n",
       "      <td>5</td>\n",
       "      <td>15737888</td>\n",
       "      <td>Mitchell</td>\n",
       "      <td>850</td>\n",
       "      <td>Spain</td>\n",
       "      <td>Female</td>\n",
       "      <td>43</td>\n",
       "      <td>2</td>\n",
       "      <td>125510.82</td>\n",
       "      <td>1</td>\n",
       "      <td>1</td>\n",
       "      <td>1</td>\n",
       "      <td>79084.10</td>\n",
       "      <td>0</td>\n",
       "      <td>-5.864729e+07</td>\n",
       "      <td>-5.864729e+07</td>\n",
       "      <td>1</td>\n",
       "      <td>0</td>\n",
       "      <td>1</td>\n",
       "      <td>0</td>\n",
       "    </tr>\n",
       "  </tbody>\n",
       "</table>\n",
       "</div>"
      ],
      "text/plain": [
       "   RowNumber  CustomerId   Surname  CreditScore Geography  Gender  Age  \\\n",
       "0          1    15634602  Hargrave          619    France  Female   42   \n",
       "1          2    15647311      Hill          608     Spain  Female   41   \n",
       "2          3    15619304      Onio          502    France  Female   42   \n",
       "3          4    15701354      Boni          699    France  Female   39   \n",
       "4          5    15737888  Mitchell          850     Spain  Female   43   \n",
       "\n",
       "   Tenure    Balance  NumOfProducts HasCrCard IsActiveMember  EstimatedSalary  \\\n",
       "0       2       0.00              1         1              1        101348.88   \n",
       "1       1   83807.86              1         0              1        112542.58   \n",
       "2       8  159660.80              3         1              0        113931.57   \n",
       "3       1       0.00              2         0              0         93826.63   \n",
       "4       2  125510.82              1         1              1         79084.10   \n",
       "\n",
       "   Exited            Y0            Y1  Z_cat  Z  D  D_cat  \n",
       "0       1 -2.055896e+07 -2.055896e+07      0  0  1      1  \n",
       "1       0 -6.405786e+07 -6.405786e+07      0  0  0      0  \n",
       "2       1 -2.849308e+07 -2.849307e+07      1  0  0      1  \n",
       "3       0 -6.802221e+07 -6.802221e+07      0  0  0      0  \n",
       "4       0 -5.864729e+07 -5.864729e+07      1  0  1      0  "
      ]
     },
     "execution_count": 165,
     "metadata": {},
     "output_type": "execute_result"
    }
   ],
   "source": [
    "churn.head()"
   ]
  },
  {
   "cell_type": "code",
   "execution_count": 167,
   "metadata": {},
   "outputs": [],
   "source": [
    "churn.to_csv(f\"{data_path}/churn_data.csv\", index=False)"
   ]
  },
  {
   "cell_type": "code",
   "execution_count": 189,
   "metadata": {},
   "outputs": [],
   "source": [
    "test = np.array([[1,2,3],[1,2,3]])"
   ]
  },
  {
   "cell_type": "code",
   "execution_count": 219,
   "metadata": {},
   "outputs": [
    {
     "data": {
      "text/plain": [
       "array([1, 15634602, 'Hargrave', 619, 'France', 'Female', 42, 2, 0.0, 1, 1,\n",
       "       1, 101348.88, 1, -20558960.356191415, -20558955.818390768, 0, 0, 1,\n",
       "       1], dtype=object)"
      ]
     },
     "execution_count": 219,
     "metadata": {},
     "output_type": "execute_result"
    }
   ],
   "source": [
    "np.array(churn.loc[0,])"
   ]
  },
  {
   "cell_type": "code",
   "execution_count": 221,
   "metadata": {},
   "outputs": [
    {
     "ename": "TypeError",
     "evalue": "unsupported operand type(s) for /: 'str' and 'str'",
     "output_type": "error",
     "traceback": [
      "\u001b[1;31m---------------------------------------------------------------------------\u001b[0m",
      "\u001b[1;31mTypeError\u001b[0m                                 Traceback (most recent call last)",
      "\u001b[1;32m<ipython-input-221-8702ec0e0d59>\u001b[0m in \u001b[0;36m<module>\u001b[1;34m\u001b[0m\n\u001b[1;32m----> 1\u001b[1;33m \u001b[1;34m\"test\"\u001b[0m \u001b[1;33m/\u001b[0m \u001b[1;34m\"test\"\u001b[0m\u001b[1;33m\u001b[0m\u001b[1;33m\u001b[0m\u001b[0m\n\u001b[0m",
      "\u001b[1;31mTypeError\u001b[0m: unsupported operand type(s) for /: 'str' and 'str'"
     ]
    }
   ],
   "source": []
  },
  {
   "cell_type": "code",
   "execution_count": null,
   "metadata": {},
   "outputs": [],
   "source": []
  }
 ],
 "metadata": {
  "kernelspec": {
   "display_name": "Python 3",
   "language": "python",
   "name": "python3"
  },
  "language_info": {
   "codemirror_mode": {
    "name": "ipython",
    "version": 3
   },
   "file_extension": ".py",
   "mimetype": "text/x-python",
   "name": "python",
   "nbconvert_exporter": "python",
   "pygments_lexer": "ipython3",
   "version": "3.7.7"
  }
 },
 "nbformat": 4,
 "nbformat_minor": 4
}
